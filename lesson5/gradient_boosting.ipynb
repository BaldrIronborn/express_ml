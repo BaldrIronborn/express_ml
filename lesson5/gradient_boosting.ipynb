{
 "cells": [
  {
   "cell_type": "markdown",
   "metadata": {},
   "source": [
    "# Градиентный спуск\n",
    "Gradient Decent"
   ]
  },
  {
   "cell_type": "markdown",
   "metadata": {},
   "source": [
    "$$f(x) \\longrightarrow  \\displaystyle \\min_{x} $$\n",
    "<br>\n",
    "$$x_{t+1} = x_t-\\alpha{f'(x_t)}$$\n",
    "<br>\n",
    "$$f_{t+1}(x) = f(x_t-\\alpha{f'(x_t)})$$"
   ]
  },
  {
   "cell_type": "code",
   "execution_count": 1,
   "metadata": {
    "ExecuteTime": {
     "end_time": "2017-12-16T10:24:33.515861Z",
     "start_time": "2017-12-16T10:24:32.796449Z"
    }
   },
   "outputs": [
    {
     "name": "stdout",
     "output_type": "stream",
     "text": [
      "Populating the interactive namespace from numpy and matplotlib\n"
     ]
    },
    {
     "data": {
      "image/png": "[encoded data removed]",
      "text/plain": [
       "<matplotlib.figure.Figure at 0x110ab1d30>"
      ]
     },
     "metadata": {},
     "output_type": "display_data"
    }
   ],
   "source": [
    "%matplotlib inline\n",
    "%pylab inline\n",
    "\n",
    "def func(x):\n",
    "    return x ** 2\n",
    "\n",
    "def derivative(x):\n",
    "    return 2 * x\n",
    "\n",
    "\n",
    "x_coord = np.linspace(-10, 10, 100)\n",
    "plot(x_coord, [func(x) for x in x_coord]);\n",
    "\n",
    "start_point = 10\n",
    "\n",
    "alpha = 0.1\n",
    "gradient_steps = [start_point]\n",
    "for i in range(1000):\n",
    "    old_point = gradient_steps[-1]\n",
    "    new_point = old_point - alpha * derivative(old_point)\n",
    "    gradient_steps.append(new_point)\n",
    "\n",
    "plot(gradient_steps, [func(x) for x in gradient_steps], 'g--^');"
   ]
  },
  {
   "cell_type": "markdown",
   "metadata": {},
   "source": [
    "<img src=\"imgs/gradient-descent.png\">"
   ]
  },
  {
   "cell_type": "markdown",
   "metadata": {},
   "source": [
    "Визуализация градиентного спуска: https://www.youtube.com/watch?v=GCvWD9zIF-s\n",
    "\n",
    "Разные модификации: https://www.youtube.com/watch?v=OWzkRD6MjYI\n"
   ]
  },
  {
   "cell_type": "markdown",
   "metadata": {},
   "source": [
    "# Градиентный бустинг"
   ]
  },
  {
   "cell_type": "markdown",
   "metadata": {},
   "source": [
    "$b_t(x)$ - ответ одного базового алгоритма (например, дерева), вещественное число для регрессии или [0, 1] - для классификации\n",
    "\n",
    "\n"
   ]
  },
  {
   "cell_type": "markdown",
   "metadata": {},
   "source": [
    "Линейная комбинация базовых алгоритмов:\n",
    "$$u(x) = \\begin{equation*}\n",
    "  \\sum_{t=1}^{T+1} \\alpha_t b_t(x)\n",
    "\\end{equation*}$$"
   ]
  },
  {
   "cell_type": "markdown",
   "metadata": {},
   "source": [
    "Функционал качества с произвольной функицей потерь $L(u(x), y)$:\n",
    "$$ Q(\\overline u, \\overline y) = \\sum_{i=1}^{l} L\\Bigl(u(x_i), y_i\\Bigr) =   \\begin{equation*}\n",
    "  \\sum_{i=1}^{l} L\\Bigl(\\sum_{t=1}^{T}\\alpha_t b_t(x_i) + \\alpha_{T+1} b_{T+1}(x_i), y_i\\Bigr)\n",
    "\\end{equation*} \\longrightarrow  \\displaystyle \\min_{\\overline b, \\overline \\alpha} $$"
   ]
  },
  {
   "cell_type": "markdown",
   "metadata": {},
   "source": [
    "Для регрессии L определяется как \n",
    "$$L == MSE == (y_i - u(x_i))^2$$\n",
    "<center>или</center><br>\n",
    "$$L == MAE == |y_i - u(x_i)|$$\n",
    "\n",
    "Для классификации:\n",
    "$$L = [ (u(x_i) - 0.5) \\cdot (y_i - 0.5) ]_{-}$$"
   ]
  },
  {
   "cell_type": "markdown",
   "metadata": {},
   "source": [
    "Еще раз посмотрим на 2 формулы:\n",
    "    \n",
    "$$ L_{T+1}(\\overline u, \\overline y) =  L\\Bigl(\\begin{equation*}\n",
    "   \\sum_{t=1}^{T}\\alpha_t b_t(x_i) + \\alpha_{T+1} b_{T+1}(x_i), y_i\\Bigr)\n",
    "\\end{equation*} $$\n",
    "\n",
    "$$f_{t+1}(x) = f(x_t-\\alpha{f'(x_t)})$$"
   ]
  },
  {
   "cell_type": "markdown",
   "metadata": {},
   "source": [
    "Но мы не можем просто так приравнять $b_{T+1}(x_i)$ к $-L'(u_t)$\n",
    "<br> \n",
    "Давайте попробуем построить дерево, которое будет очень похоже на $L'(u_t)$ на обучающей выборке. \n",
    "<br>\n",
    "Обучаемся на $\\Bigl[x_i, −L'(u_t(x_i))\\Bigr]$ и получим таким образом $b_{T+1}$"
   ]
  },
  {
   "cell_type": "code",
   "execution_count": null,
   "metadata": {
    "collapsed": true
   },
   "outputs": [],
   "source": []
  },
  {
   "cell_type": "code",
   "execution_count": null,
   "metadata": {
    "collapsed": true
   },
   "outputs": [],
   "source": []
  },
  {
   "cell_type": "markdown",
   "metadata": {},
   "source": [
    "Есть еще одна проблема: $L$ для классификации не дифференцируема по $x_i$. Заменим ее на мажорирующую:"
   ]
  },
  {
   "cell_type": "markdown",
   "metadata": {},
   "source": [
    "<img src=\"imgs/2.jpg\" width=500>"
   ]
  },
  {
   "cell_type": "markdown",
   "metadata": {},
   "source": [
    "# Пример использования:     "
   ]
  },
  {
   "cell_type": "code",
   "execution_count": 8,
   "metadata": {
    "ExecuteTime": {
     "end_time": "2017-10-04T14:13:14.950885Z",
     "start_time": "2017-10-04T14:13:14.264443Z"
    },
    "collapsed": true
   },
   "outputs": [],
   "source": [
    "from sklearn.datasets import load_iris\n",
    "iris = load_iris()\n",
    "X = iris.data\n",
    "y = iris.target\n",
    "\n",
    "from sklearn.model_selection import train_test_split\n",
    "X_train, X_test, y_train, y_test = train_test_split(\n",
    "    X, y, test_size=0.3, random_state=42, stratify=y)"
   ]
  },
  {
   "cell_type": "code",
   "execution_count": 9,
   "metadata": {
    "ExecuteTime": {
     "end_time": "2017-10-04T14:13:15.160512Z",
     "start_time": "2017-10-04T14:13:14.952710Z"
    }
   },
   "outputs": [
    {
     "data": {
      "text/plain": [
       "0.97777777777777775"
      ]
     },
     "execution_count": 9,
     "metadata": {},
     "output_type": "execute_result"
    }
   ],
   "source": [
    "from sklearn.ensemble import GradientBoostingClassifier\n",
    "clf = GradientBoostingClassifier()\n",
    "clf.fit(X_train, y_train)\n",
    "clf.score(X_test, y_test)"
   ]
  },
  {
   "cell_type": "markdown",
   "metadata": {},
   "source": [
    "## XGBoost:"
   ]
  },
  {
   "cell_type": "code",
   "execution_count": 12,
   "metadata": {
    "ExecuteTime": {
     "end_time": "2017-10-04T14:15:18.992281Z",
     "start_time": "2017-10-04T14:15:18.975740Z"
    }
   },
   "outputs": [
    {
     "data": {
      "text/plain": [
       "0.93333333333333335"
      ]
     },
     "execution_count": 12,
     "metadata": {},
     "output_type": "execute_result"
    }
   ],
   "source": [
    "from xgboost import XGBClassifier\n",
    "clf = XGBClassifier() \n",
    "clf.fit(X_train, y_train)\n",
    "clf.score(X_test, y_test) "
   ]
  },
  {
   "cell_type": "markdown",
   "metadata": {
    "collapsed": true
   },
   "source": [
    "### Важные параметры:"
   ]
  },
  {
   "cell_type": "markdown",
   "metadata": {
    "ExecuteTime": {
     "end_time": "2017-07-12T12:21:29.568185Z",
     "start_time": "2017-07-12T15:21:29.552858+03:00"
    },
    "collapsed": true
   },
   "source": [
    "http://xgboost.readthedocs.io/en/latest/python/python_api.html"
   ]
  },
  {
   "cell_type": "markdown",
   "metadata": {
    "ExecuteTime": {
     "end_time": "2017-07-12T12:38:06.234954Z",
     "start_time": "2017-07-12T15:38:06.230477+03:00"
    }
   },
   "source": [
    "objective={\"reg:linear\", \"reg:logistic\", \n",
    "           \"multi:softmax\", \"multi:softprob\", \n",
    "           \"rank:pairwise\", \"....etc\"}  <br>\n",
    "           \n",
    "    -loss-функция. Можно написать самостоятельно"
   ]
  },
  {
   "cell_type": "markdown",
   "metadata": {
    "ExecuteTime": {
     "end_time": "2017-07-12T12:30:11.238504Z",
     "start_time": "2017-07-12T15:30:11.230383+03:00"
    }
   },
   "source": [
    "<i> learning_rates </i> - можно настроить убывающую скорость<br>\n",
    "<i> max_depth </i> - максимальная глубина дерева. Слишком большая глубина ведет к переобучению<br>\n",
    "<i> subsample, colsample_bytree, colsample_bylevel </i> - сэмплирование по объектам и признакам<br>\n",
    "<i> min_child_weight </i> - минимальная сумма весов в листе<br>\n",
    "<i> scale_pos_weight </i> - вес целого класса, используется если один класс заметно чаще встречается, чем другой<br>"
   ]
  },
  {
   "cell_type": "markdown",
   "metadata": {},
   "source": [
    "Как настраивать: \n",
    "    \n",
    "* Выбираем относительно большой learning_rate ($ \\eta \\in [0.05, 0.3]$), подбираем оптимальное число деревьев для выбранного $ \\eta $\n",
    "\n",
    "* Настраиваем параметры деревьев, начиная с самых значимых (max_depth, min_child_weight, gamma, subsample, colsample_bytree)\n",
    "\n",
    "* Настраиваем регуляризации ($ \\lambda, \\alpha $)\n",
    "\n",
    "* Уменьшаем learning_rate, пропорционально увеличиваем число деревьев"
   ]
  },
  {
   "cell_type": "markdown",
   "metadata": {
    "ExecuteTime": {
     "end_time": "2017-07-12T12:30:52.982650Z",
     "start_time": "2017-07-12T15:30:52.975773+03:00"
    }
   },
   "source": [
    "<a href=\"https://www.analyticsvidhya.com/blog/2016/03/complete-guide-parameter-tuning-xgboost-with-codes-python/\">Complete Guide to Parameter Tuning in XGBoost (with codes in Python) </a>\n",
    "\n",
    "<a href=\"https://arogozhnikov.github.io/2016/07/05/gradient_boosting_playground.html\">Визуализация градиентного бустинга</a>"
   ]
  },
  {
   "cell_type": "markdown",
   "metadata": {
    "collapsed": true
   },
   "source": [
    "## CatBoost:"
   ]
  },
  {
   "cell_type": "code",
   "execution_count": 5,
   "metadata": {
    "ExecuteTime": {
     "end_time": "2017-12-03T22:25:42.223953Z",
     "start_time": "2017-12-03T22:25:42.219331Z"
    }
   },
   "outputs": [
    {
     "data": {
      "text/plain": [
       "'0.2.3'"
      ]
     },
     "execution_count": 5,
     "metadata": {},
     "output_type": "execute_result"
    }
   ],
   "source": [
    "catboost.__version__"
   ]
  },
  {
   "cell_type": "code",
   "execution_count": 1,
   "metadata": {
    "ExecuteTime": {
     "end_time": "2017-12-03T21:56:14.472940Z",
     "start_time": "2017-12-03T21:56:13.946362Z"
    },
    "collapsed": true
   },
   "outputs": [],
   "source": [
    "import catboost"
   ]
  },
  {
   "cell_type": "code",
   "execution_count": 4,
   "metadata": {
    "ExecuteTime": {
     "end_time": "2017-12-03T22:25:38.612568Z",
     "start_time": "2017-12-03T22:25:38.602434Z"
    }
   },
   "outputs": [
    {
     "ename": "NameError",
     "evalue": "name 'X_train' is not defined",
     "output_type": "error",
     "traceback": [
      "\u001b[0;31m---------------------------------------------------------------------------\u001b[0m",
      "\u001b[0;31mNameError\u001b[0m                                 Traceback (most recent call last)",
      "\u001b[0;32m<ipython-input-4-417143c1033a>\u001b[0m in \u001b[0;36m<module>\u001b[0;34m()\u001b[0m\n\u001b[1;32m      1\u001b[0m \u001b[0;32mfrom\u001b[0m \u001b[0mcatboost\u001b[0m \u001b[0;32mimport\u001b[0m \u001b[0mCatBoostClassifier\u001b[0m\u001b[0;34m\u001b[0m\u001b[0m\n\u001b[1;32m      2\u001b[0m \u001b[0mclf\u001b[0m \u001b[0;34m=\u001b[0m \u001b[0mCatBoostClassifier\u001b[0m\u001b[0;34m(\u001b[0m\u001b[0;34m)\u001b[0m\u001b[0;34m\u001b[0m\u001b[0m\n\u001b[0;32m----> 3\u001b[0;31m \u001b[0mclf\u001b[0m\u001b[0;34m.\u001b[0m\u001b[0mfit\u001b[0m\u001b[0;34m(\u001b[0m\u001b[0mX_train\u001b[0m\u001b[0;34m,\u001b[0m \u001b[0my_train\u001b[0m\u001b[0;34m)\u001b[0m\u001b[0;34m\u001b[0m\u001b[0m\n\u001b[0m\u001b[1;32m      4\u001b[0m \u001b[0mclf\u001b[0m\u001b[0;34m.\u001b[0m\u001b[0mscore\u001b[0m\u001b[0;34m(\u001b[0m\u001b[0mX_test\u001b[0m\u001b[0;34m,\u001b[0m \u001b[0my_test\u001b[0m\u001b[0;34m)\u001b[0m\u001b[0;34m\u001b[0m\u001b[0m\n",
      "\u001b[0;31mNameError\u001b[0m: name 'X_train' is not defined"
     ]
    }
   ],
   "source": [
    "from catboost import CatBoostClassifier\n",
    "clf = CatBoostClassifier()\n",
    "clf.fit(X_train, y_train)\n",
    "clf.score(X_test, y_test)"
   ]
  },
  {
   "cell_type": "code",
   "execution_count": 14,
   "metadata": {
    "ExecuteTime": {
     "end_time": "2017-10-04T14:15:24.894614Z",
     "start_time": "2017-10-04T14:15:24.852564Z"
    },
    "scrolled": true
   },
   "outputs": [
    {
     "name": "stdout",
     "output_type": "stream",
     "text": [
      "Borders for float features generated\n",
      "0:\tlearn 0.6912161662\ttotal: 8.18ms\tremaining: 8.18ms\n",
      "1:\tlearn 0.6858021314\ttotal: 15.7ms\tremaining: 0us\n",
      "class =  [ 0.  1.  0.  0.  1.  1.  1.  0.  1.  0.  0.  0.  1.  0.  1.  1.  1.  1.\n",
      "  1.  1.  1.  1.  0.  1.  1.  0.  0.  0.  1.  1.  1.  1.  0.  1.  0.  1.\n",
      "  1.  0.  1.  1.  0.  0.  0.  0.  0.  1.  1.  1.  0.  1.]\n",
      "proba =  [[ 0.52324349  0.47675651]\n",
      " [ 0.43892787  0.56107213]\n",
      " [ 0.60475459  0.39524541]\n",
      " [ 0.52324349  0.47675651]\n",
      " [ 0.43892787  0.56107213]\n",
      " [ 0.43892787  0.56107213]\n",
      " [ 0.38676161  0.61323839]\n",
      " [ 0.52167653  0.47832347]\n",
      " [ 0.43892787  0.56107213]\n",
      " [ 0.52167653  0.47832347]\n",
      " [ 0.60475459  0.39524541]\n",
      " [ 0.52324349  0.47675651]\n",
      " [ 0.43892787  0.56107213]\n",
      " [ 0.52324349  0.47675651]\n",
      " [ 0.43892787  0.56107213]\n",
      " [ 0.43892787  0.56107213]\n",
      " [ 0.34998485  0.65001515]\n",
      " [ 0.34998485  0.65001515]\n",
      " [ 0.43892787  0.56107213]\n",
      " [ 0.43892787  0.56107213]\n",
      " [ 0.43892787  0.56107213]\n",
      " [ 0.43892787  0.56107213]\n",
      " [ 0.52324349  0.47675651]\n",
      " [ 0.38676161  0.61323839]\n",
      " [ 0.43892787  0.56107213]\n",
      " [ 0.52324349  0.47675651]\n",
      " [ 0.52324349  0.47675651]\n",
      " [ 0.52167653  0.47832347]\n",
      " [ 0.43892787  0.56107213]\n",
      " [ 0.43892787  0.56107213]\n",
      " [ 0.43892787  0.56107213]\n",
      " [ 0.43892787  0.56107213]\n",
      " [ 0.60475459  0.39524541]\n",
      " [ 0.43892787  0.56107213]\n",
      " [ 0.52324349  0.47675651]\n",
      " [ 0.43892787  0.56107213]\n",
      " [ 0.43892787  0.56107213]\n",
      " [ 0.52324349  0.47675651]\n",
      " [ 0.43892787  0.56107213]\n",
      " [ 0.43892787  0.56107213]\n",
      " [ 0.60475459  0.39524541]\n",
      " [ 0.52324349  0.47675651]\n",
      " [ 0.52167653  0.47832347]\n",
      " [ 0.60475459  0.39524541]\n",
      " [ 0.60475459  0.39524541]\n",
      " [ 0.43892787  0.56107213]\n",
      " [ 0.46787671  0.53212329]\n",
      " [ 0.34998485  0.65001515]\n",
      " [ 0.52324349  0.47675651]\n",
      " [ 0.43892787  0.56107213]]\n"
     ]
    }
   ],
   "source": [
    "# initialize data\n",
    "train_data = np.random.randint(0, 100, size=(100, 10))\n",
    "train_label = np.random.randint(0, 2, size=(100))\n",
    "test_data = np.random.randint(0, 100, size=(50, 10))\n",
    "# specify the training parameters \n",
    "model = CatBoostClassifier(iterations=2, depth=2, \n",
    "                           learning_rate=1, loss_function='Logloss', \n",
    "                           verbose=True)\n",
    "#train the model\n",
    "model.fit(train_data, train_label, cat_features=[0,2,5], \n",
    "          verbose=True)\n",
    "# make the prediction using the resulting model\n",
    "preds_class = model.predict(test_data)\n",
    "preds_proba = model.predict_proba(test_data)\n",
    "print(\"class = \", preds_class)\n",
    "print(\"proba = \", preds_proba)"
   ]
  },
  {
   "cell_type": "code",
   "execution_count": null,
   "metadata": {
    "collapsed": true
   },
   "outputs": [],
   "source": []
  }
 ],
 "metadata": {
  "kernelspec": {
   "display_name": "Python 3",
   "language": "python",
   "name": "python3"
  },
  "language_info": {
   "codemirror_mode": {
    "name": "ipython",
    "version": 3
   },
   "file_extension": ".py",
   "mimetype": "text/x-python",
   "name": "python",
   "nbconvert_exporter": "python",
   "pygments_lexer": "ipython3",
   "version": "3.6.1"
  }
 },
 "nbformat": 4,
 "nbformat_minor": 2
}
