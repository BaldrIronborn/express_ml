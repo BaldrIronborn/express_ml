{
 "cells": [
  {
   "cell_type": "markdown",
   "metadata": {},
   "source": [
    "# Cross validation"
   ]
  },
  {
   "cell_type": "code",
   "execution_count": 1,
   "metadata": {
    "ExecuteTime": {
     "end_time": "2017-11-12T15:36:13.675340Z",
     "start_time": "2017-11-12T15:36:12.288772Z"
    }
   },
   "outputs": [
    {
     "name": "stdout",
     "output_type": "stream",
     "text": [
      "Populating the interactive namespace from numpy and matplotlib\n"
     ]
    }
   ],
   "source": [
    "%matplotlib inline\n",
    "%pylab inline\n",
    "import pandas as pd\n",
    "import numpy as np\n",
    "import seaborn as sns\n",
    "from __future__ import division"
   ]
  },
  {
   "cell_type": "code",
   "execution_count": 2,
   "metadata": {
    "ExecuteTime": {
     "end_time": "2017-11-12T15:36:17.384544Z",
     "start_time": "2017-11-12T15:36:17.282733Z"
    }
   },
   "outputs": [
    {
     "name": "stdout",
     "output_type": "stream",
     "text": [
      "X = [['a1' 'a2']\n",
      " ['b1' 'b2']\n",
      " ['c1' 'c2']\n",
      " ['d1' 'd2']\n",
      " ['e1' 'e2']\n",
      " ['f1' 'f2']\n",
      " ['g1' 'g2']\n",
      " ['h1' 'h2']\n",
      " ['i1' 'i2']\n",
      " ['j1' 'j2']]\n",
      "y = [1 1 1 1 1 0 0 0 0 0]\n",
      "\n",
      "TRAIN: [0 1 3 4 5 6 8 9] TEST: [2 7]\n",
      "TRAIN: [0 2 3 4 5 7 8 9] TEST: [1 6]\n",
      "TRAIN: [0 1 2 3 5 6 7 8] TEST: [4 9]\n",
      "TRAIN: [1 2 3 4 6 7 8 9] TEST: [0 5]\n",
      "TRAIN: [0 1 2 4 5 6 7 9] TEST: [3 8]\n"
     ]
    }
   ],
   "source": [
    "X = np.array([['a1', 'b1', 'c1', 'd1', 'e1', 'f1', 'g1', 'h1', 'i1', 'j1'], \n",
    "              ['a2', 'b2', 'c2', 'd2', 'e2', 'f2', 'g2', 'h2', 'i2', 'j2']]).T\n",
    "y = np.array([1, 1, 1, 1, 1, 0, 0, 0, 0, 0])\n",
    "print('X =', X)\n",
    "print('y =', y)\n",
    "print()\n",
    "\n",
    "from sklearn.model_selection import StratifiedKFold\n",
    "\n",
    "kfold = StratifiedKFold(n_splits=5, random_state=1, \n",
    "                        shuffle=True)\n",
    "for train_index, test_index in kfold.split(X, y):\n",
    "    print('TRAIN:', train_index, 'TEST:', test_index)\n",
    "    X_train, X_test = X[train_index], X[test_index]\n",
    "    y_train, y_test = y[train_index], y[test_index]"
   ]
  },
  {
   "cell_type": "markdown",
   "metadata": {},
   "source": [
    "<a href=\"http://scikit-learn.org/stable/modules/generated/sklearn.model_selection.cross_val_score.html\">sklearn.model_selection.cross_val_score</a>"
   ]
  },
  {
   "cell_type": "code",
   "execution_count": 4,
   "metadata": {
    "ExecuteTime": {
     "end_time": "2017-11-12T15:36:52.795582Z",
     "start_time": "2017-11-12T15:36:51.873436Z"
    }
   },
   "outputs": [
    {
     "name": "stdout",
     "output_type": "stream",
     "text": [
      "[ 0.63159  0.6425   0.64175  0.62132  0.6282   0.63342]\n",
      "[ 0.63159  0.6425   0.64175  0.62132  0.6282   0.63342]\n"
     ]
    }
   ],
   "source": [
    "%precision 5\n",
    "\n",
    "df = pd.read_csv('../shelter_animals/shelter_animals_small.csv')\n",
    "kfold = StratifiedKFold(n_splits=6, random_state=42, \n",
    "                        shuffle=True)\n",
    "\n",
    "training_columns = ['AnimalType', 'AgeuponOutcome', \n",
    "                    'Gender_Male', 'Gender_Unknown', \n",
    "                    'Sterilization_Neutered', \n",
    "                    'Sterilization_Unknown']\n",
    "X = df[training_columns].values\n",
    "y = df['OutcomeType'].values\n",
    "\n",
    "\n",
    "from sklearn.ensemble import RandomForestClassifier\n",
    "cv_score = []\n",
    "for train_index, test_index in kfold.split(X, y):\n",
    "    clf = RandomForestClassifier(random_state=42, \n",
    "                                 n_estimators=10)\n",
    "    X_train, X_test = X[train_index], X[test_index]\n",
    "    y_train, y_test = y[train_index], y[test_index]\n",
    "    clf.fit(X_train, y_train)\n",
    "    cv_score.append(clf.score(X_test, y_test))\n",
    "\n",
    "print(np.array(cv_score))\n",
    "\n",
    "# То же самое:\n",
    "\n",
    "from sklearn.model_selection import cross_val_score\n",
    "clf = RandomForestClassifier(random_state=42, \n",
    "                             n_estimators=10,\n",
    "                             n_jobs=1)\n",
    "cv_score = cross_val_score(clf, X, y, cv=kfold)\n",
    "print(cv_score)"
   ]
  },
  {
   "cell_type": "markdown",
   "metadata": {},
   "source": [
    "Найдем оптимальное количество деревьев для случайного леса по кросс-валидации:"
   ]
  },
  {
   "cell_type": "code",
   "execution_count": 15,
   "metadata": {
    "ExecuteTime": {
     "end_time": "2017-09-15T17:14:09.500779Z",
     "start_time": "2017-09-15T17:10:17.784204Z"
    },
    "collapsed": true,
    "scrolled": true
   },
   "outputs": [],
   "source": [
    "kfold = StratifiedKFold(n_splits=3, random_state=42, \n",
    "                        shuffle=True)\n",
    "\n",
    "cv_scores = []\n",
    "\n",
    "estimators_counter = range(1, 601, 10)\n",
    "for n in estimators_counter:\n",
    "    clf = RandomForestClassifier(random_state=42, \n",
    "                                 n_estimators=n,\n",
    "                                 n_jobs=4)\n",
    "    cv_score = cross_val_score(clf, X, y, cv=kfold)\n",
    "    cv_scores.append(cv_score)"
   ]
  },
  {
   "cell_type": "code",
   "execution_count": 16,
   "metadata": {
    "ExecuteTime": {
     "end_time": "2017-09-15T17:14:09.678585Z",
     "start_time": "2017-09-15T17:14:09.502872Z"
    }
   },
   "outputs": [
    {
     "data": {
      "image/png": "[encoded data removed]",
      "text/plain": [
       "<matplotlib.figure.Figure at 0x107774050>"
      ]
     },
     "metadata": {},
     "output_type": "display_data"
    }
   ],
   "source": [
    "figure(figsize=(10,5))\n",
    "cv_scores = np.array(cv_scores)\n",
    "    \n",
    "scores_mean = np.mean(cv_scores, axis=1)\n",
    "scores_std = np.std(cv_scores, axis=1)\n",
    "plt.grid()\n",
    "plt.fill_between(estimators_counter, \n",
    "                 scores_mean - scores_std, \n",
    "                 scores_mean + scores_std, \n",
    "                 alpha=0.1, color='g')\n",
    "plt.plot(estimators_counter, scores_mean, \n",
    "         'o-', color='b', label='test score')\n",
    "\n",
    "plt.xlabel('n_estimators')\n",
    "plt.ylabel('Score')\n",
    "_ = plt.legend(loc='lower right')"
   ]
  },
  {
   "cell_type": "markdown",
   "metadata": {},
   "source": [
    "## Как подобрать мета-параметры алгоритма?"
   ]
  },
  {
   "cell_type": "markdown",
   "metadata": {},
   "source": [
    "<a href=\"http://scikit-learn.org/stable/modules/generated/sklearn.model_selection.GridSearchCV.html#sklearn.model_selection.GridSearchCV\">sklearn.model_selection.GridSearchCV</a>"
   ]
  },
  {
   "cell_type": "code",
   "execution_count": 6,
   "metadata": {
    "ExecuteTime": {
     "end_time": "2017-11-12T15:37:36.297092Z",
     "start_time": "2017-11-12T15:37:31.147081Z"
    }
   },
   "outputs": [
    {
     "name": "stdout",
     "output_type": "stream",
     "text": [
      "best score: 0.634067866362 {'criterion': 'gini', 'max_depth': 5}\n"
     ]
    }
   ],
   "source": [
    "from sklearn.model_selection import GridSearchCV\n",
    "\n",
    "kfold = StratifiedKFold(n_splits=6, random_state=42, \n",
    "                        shuffle=True)\n",
    "\n",
    "grid_searcher = GridSearchCV(\n",
    "    RandomForestClassifier(random_state=42, n_estimators=20), \n",
    "                 {'criterion': ['gini', 'entropy'],\n",
    "                  'max_depth': [1, 3, 5, 7, 10, None]},\n",
    "                  cv=kfold, n_jobs=3)\n",
    "\n",
    "grid_searcher.fit(X, y)\n",
    "print('best score:', grid_searcher.best_score_, \\\n",
    "grid_searcher.best_params_)"
   ]
  },
  {
   "cell_type": "markdown",
   "metadata": {},
   "source": [
    "## Хотите, найти оптимальные параметры быстрее? \n",
    "\n",
    "Выход есть и их много! Например: <a href=\"http://scikit-learn.org/stable/modules/generated/sklearn.model_selection.RandomizedSearchCV.html\">sklearn.model_selection.RandomizedSearchCV</a>\n",
    "\n",
    "Еще быстрее: http://hyperopt.github.io/hyperopt-sklearn/"
   ]
  },
  {
   "cell_type": "markdown",
   "metadata": {},
   "source": [
    "<img src=\"http://blog.kaggle.com/wp-content/uploads/2015/07/scikitlearn8.jpeg\">"
   ]
  },
  {
   "cell_type": "markdown",
   "metadata": {},
   "source": [
    "## Как выбрать количество фолдов?"
   ]
  },
  {
   "cell_type": "code",
   "execution_count": 9,
   "metadata": {
    "ExecuteTime": {
     "end_time": "2017-09-15T14:37:59.612827Z",
     "start_time": "2017-09-15T14:33:33.318662Z"
    }
   },
   "outputs": [
    {
     "name": "stdout",
     "output_type": "stream",
     "text": [
      "n_splits=2\n",
      "n_splits=3\n",
      "n_splits=4\n",
      "n_splits=5\n",
      "n_splits=6\n",
      "n_splits=7\n",
      "n_splits=8\n",
      "n_splits=9\n",
      "n_splits=10\n",
      "n_splits=11\n",
      "n_splits=12\n",
      "n_splits=13\n",
      "n_splits=14\n",
      "n_splits=15\n",
      "n_splits=16\n",
      "n_splits=17\n",
      "n_splits=18\n",
      "n_splits=19\n"
     ]
    }
   ],
   "source": [
    "%precision 4\n",
    "from sklearn.model_selection import StratifiedKFold, cross_val_score\n",
    "\n",
    "cv_scores = []\n",
    "for n_splits in range(2, 20):\n",
    "    cv_scores.append([])\n",
    "    print('n_splits={}'.format(n_splits))\n",
    "    for i in xrange(20):\n",
    "        kfold = StratifiedKFold(n_splits=n_splits, random_state=i, \n",
    "                                shuffle=True)\n",
    "        cv_score = cross_val_score(\n",
    "            RandomForestClassifier(random_state=40, n_estimators=10),\n",
    "                df[training_columns], df['OutcomeType'], cv=kfold)\n",
    "#         print 'i={}, mean={}, std={}'.format(i, mean(cv_score), std(cv_score))\n",
    "        cv_scores[-1].append(mean(cv_score))"
   ]
  },
  {
   "cell_type": "code",
   "execution_count": 10,
   "metadata": {
    "ExecuteTime": {
     "end_time": "2017-09-15T14:38:00.079842Z",
     "start_time": "2017-09-15T14:37:59.614750Z"
    }
   },
   "outputs": [
    {
     "data": {
      "image/png": "[encoded data removed]",
      "text/plain": [
       "<matplotlib.figure.Figure at 0x118f55290>"
      ]
     },
     "metadata": {},
     "output_type": "display_data"
    }
   ],
   "source": [
    "figure(figsize=(12, 8))\n",
    "boxplot(cv_scores);"
   ]
  },
  {
   "cell_type": "markdown",
   "metadata": {},
   "source": [
    "Стандартное отклонение среднего для x фолдов при 20 пробах:"
   ]
  },
  {
   "cell_type": "code",
   "execution_count": 11,
   "metadata": {
    "ExecuteTime": {
     "end_time": "2017-09-15T14:38:00.243611Z",
     "start_time": "2017-09-15T14:38:00.081421Z"
    }
   },
   "outputs": [
    {
     "data": {
      "image/png": "[encoded data removed]",
      "text/plain": [
       "<matplotlib.figure.Figure at 0x118f55110>"
      ]
     },
     "metadata": {},
     "output_type": "display_data"
    }
   ],
   "source": [
    "plot([np.std(score) for score in cv_scores]);"
   ]
  },
  {
   "cell_type": "code",
   "execution_count": null,
   "metadata": {
    "collapsed": true
   },
   "outputs": [],
   "source": []
  }
 ],
 "metadata": {
  "kernelspec": {
   "display_name": "Python 3",
   "language": "python",
   "name": "python3"
  },
  "language_info": {
   "codemirror_mode": {
    "name": "ipython",
    "version": 3
   },
   "file_extension": ".py",
   "mimetype": "text/x-python",
   "name": "python",
   "nbconvert_exporter": "python",
   "pygments_lexer": "ipython3",
   "version": "3.6.1"
  }
 },
 "nbformat": 4,
 "nbformat_minor": 1
}
