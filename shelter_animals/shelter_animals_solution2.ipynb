{
 "cells": [
  {
   "cell_type": "markdown",
   "metadata": {
    "ExecuteTime": {
     "end_time": "2017-11-12T15:42:05.496610Z",
     "start_time": "2017-11-12T15:42:05.492783Z"
    }
   },
   "source": [
    "<img src=\"https://kaggle2.blob.core.windows.net/competitions/kaggle/5039/logos/front_page.png\">"
   ]
  },
  {
   "cell_type": "markdown",
   "metadata": {},
   "source": [
    "Оригинальное соревнование: https://www.kaggle.com/c/shelter-animal-outcomes"
   ]
  },
  {
   "cell_type": "code",
   "execution_count": 5,
   "metadata": {
    "ExecuteTime": {
     "end_time": "2017-11-25T00:10:39.785986Z",
     "start_time": "2017-11-25T00:10:39.776434Z"
    }
   },
   "outputs": [
    {
     "name": "stdout",
     "output_type": "stream",
     "text": [
      "Populating the interactive namespace from numpy and matplotlib\n"
     ]
    }
   ],
   "source": [
    "%matplotlib inline\n",
    "%pylab inline\n",
    "import pandas as pd\n",
    "import numpy as np\n",
    "import seaborn as sns\n",
    "from __future__ import division"
   ]
  },
  {
   "cell_type": "code",
   "execution_count": 6,
   "metadata": {
    "ExecuteTime": {
     "end_time": "2017-11-25T00:10:39.920157Z",
     "start_time": "2017-11-25T00:10:39.792109Z"
    },
    "scrolled": true
   },
   "outputs": [
    {
     "data": {
      "text/html": [
       "<div>\n",
       "<style>\n",
       "    .dataframe thead tr:only-child th {\n",
       "        text-align: right;\n",
       "    }\n",
       "\n",
       "    .dataframe thead th {\n",
       "        text-align: left;\n",
       "    }\n",
       "\n",
       "    .dataframe tbody tr th {\n",
       "        vertical-align: top;\n",
       "    }\n",
       "</style>\n",
       "<table border=\"1\" class=\"dataframe\">\n",
       "  <thead>\n",
       "    <tr style=\"text-align: right;\">\n",
       "      <th></th>\n",
       "      <th>AnimalID</th>\n",
       "      <th>Name</th>\n",
       "      <th>DateTime</th>\n",
       "      <th>OutcomeType</th>\n",
       "      <th>OutcomeSubtype</th>\n",
       "      <th>AnimalType</th>\n",
       "      <th>SexuponOutcome</th>\n",
       "      <th>AgeuponOutcome</th>\n",
       "      <th>Breed</th>\n",
       "      <th>Color</th>\n",
       "    </tr>\n",
       "  </thead>\n",
       "  <tbody>\n",
       "    <tr>\n",
       "      <th>0</th>\n",
       "      <td>A671945</td>\n",
       "      <td>Hambone</td>\n",
       "      <td>2014-02-12 18:22:00</td>\n",
       "      <td>Return_to_owner</td>\n",
       "      <td>NaN</td>\n",
       "      <td>Dog</td>\n",
       "      <td>Neutered Male</td>\n",
       "      <td>1 year</td>\n",
       "      <td>Shetland Sheepdog Mix</td>\n",
       "      <td>Brown/White</td>\n",
       "    </tr>\n",
       "    <tr>\n",
       "      <th>1</th>\n",
       "      <td>A656520</td>\n",
       "      <td>Emily</td>\n",
       "      <td>2013-10-13 12:44:00</td>\n",
       "      <td>Euthanasia</td>\n",
       "      <td>Suffering</td>\n",
       "      <td>Cat</td>\n",
       "      <td>Spayed Female</td>\n",
       "      <td>1 year</td>\n",
       "      <td>Domestic Shorthair Mix</td>\n",
       "      <td>Cream Tabby</td>\n",
       "    </tr>\n",
       "    <tr>\n",
       "      <th>2</th>\n",
       "      <td>A686464</td>\n",
       "      <td>Pearce</td>\n",
       "      <td>2015-01-31 12:28:00</td>\n",
       "      <td>Adoption</td>\n",
       "      <td>Foster</td>\n",
       "      <td>Dog</td>\n",
       "      <td>Neutered Male</td>\n",
       "      <td>2 years</td>\n",
       "      <td>Pit Bull Mix</td>\n",
       "      <td>Blue/White</td>\n",
       "    </tr>\n",
       "    <tr>\n",
       "      <th>3</th>\n",
       "      <td>A683430</td>\n",
       "      <td>NaN</td>\n",
       "      <td>2014-07-11 19:09:00</td>\n",
       "      <td>Transfer</td>\n",
       "      <td>Partner</td>\n",
       "      <td>Cat</td>\n",
       "      <td>Intact Male</td>\n",
       "      <td>3 weeks</td>\n",
       "      <td>Domestic Shorthair Mix</td>\n",
       "      <td>Blue Cream</td>\n",
       "    </tr>\n",
       "    <tr>\n",
       "      <th>4</th>\n",
       "      <td>A667013</td>\n",
       "      <td>NaN</td>\n",
       "      <td>2013-11-15 12:52:00</td>\n",
       "      <td>Transfer</td>\n",
       "      <td>Partner</td>\n",
       "      <td>Dog</td>\n",
       "      <td>Neutered Male</td>\n",
       "      <td>2 years</td>\n",
       "      <td>Lhasa Apso/Miniature Poodle</td>\n",
       "      <td>Tan</td>\n",
       "    </tr>\n",
       "    <tr>\n",
       "      <th>5</th>\n",
       "      <td>A677334</td>\n",
       "      <td>Elsa</td>\n",
       "      <td>2014-04-25 13:04:00</td>\n",
       "      <td>Transfer</td>\n",
       "      <td>Partner</td>\n",
       "      <td>Dog</td>\n",
       "      <td>Intact Female</td>\n",
       "      <td>1 month</td>\n",
       "      <td>Cairn Terrier/Chihuahua Shorthair</td>\n",
       "      <td>Black/Tan</td>\n",
       "    </tr>\n",
       "    <tr>\n",
       "      <th>6</th>\n",
       "      <td>A699218</td>\n",
       "      <td>Jimmy</td>\n",
       "      <td>2015-03-28 13:11:00</td>\n",
       "      <td>Transfer</td>\n",
       "      <td>Partner</td>\n",
       "      <td>Cat</td>\n",
       "      <td>Intact Male</td>\n",
       "      <td>3 weeks</td>\n",
       "      <td>Domestic Shorthair Mix</td>\n",
       "      <td>Blue Tabby</td>\n",
       "    </tr>\n",
       "    <tr>\n",
       "      <th>7</th>\n",
       "      <td>A701489</td>\n",
       "      <td>NaN</td>\n",
       "      <td>2015-04-30 17:02:00</td>\n",
       "      <td>Transfer</td>\n",
       "      <td>Partner</td>\n",
       "      <td>Cat</td>\n",
       "      <td>Unknown</td>\n",
       "      <td>3 weeks</td>\n",
       "      <td>Domestic Shorthair Mix</td>\n",
       "      <td>Brown Tabby</td>\n",
       "    </tr>\n",
       "    <tr>\n",
       "      <th>8</th>\n",
       "      <td>A671784</td>\n",
       "      <td>Lucy</td>\n",
       "      <td>2014-02-04 17:17:00</td>\n",
       "      <td>Adoption</td>\n",
       "      <td>NaN</td>\n",
       "      <td>Dog</td>\n",
       "      <td>Spayed Female</td>\n",
       "      <td>5 months</td>\n",
       "      <td>American Pit Bull Terrier Mix</td>\n",
       "      <td>Red/White</td>\n",
       "    </tr>\n",
       "    <tr>\n",
       "      <th>9</th>\n",
       "      <td>A677747</td>\n",
       "      <td>NaN</td>\n",
       "      <td>2014-05-03 07:48:00</td>\n",
       "      <td>Adoption</td>\n",
       "      <td>Offsite</td>\n",
       "      <td>Dog</td>\n",
       "      <td>Spayed Female</td>\n",
       "      <td>1 year</td>\n",
       "      <td>Cairn Terrier</td>\n",
       "      <td>White</td>\n",
       "    </tr>\n",
       "    <tr>\n",
       "      <th>10</th>\n",
       "      <td>A668402</td>\n",
       "      <td>NaN</td>\n",
       "      <td>2013-12-05 15:50:00</td>\n",
       "      <td>Transfer</td>\n",
       "      <td>SCRP</td>\n",
       "      <td>Cat</td>\n",
       "      <td>Unknown</td>\n",
       "      <td>2 years</td>\n",
       "      <td>Domestic Shorthair Mix</td>\n",
       "      <td>Black</td>\n",
       "    </tr>\n",
       "    <tr>\n",
       "      <th>11</th>\n",
       "      <td>A666320</td>\n",
       "      <td>NaN</td>\n",
       "      <td>2013-11-04 14:48:00</td>\n",
       "      <td>Adoption</td>\n",
       "      <td>NaN</td>\n",
       "      <td>Dog</td>\n",
       "      <td>Spayed Female</td>\n",
       "      <td>2 years</td>\n",
       "      <td>Miniature Schnauzer Mix</td>\n",
       "      <td>Silver</td>\n",
       "    </tr>\n",
       "    <tr>\n",
       "      <th>12</th>\n",
       "      <td>A684601</td>\n",
       "      <td>Rocket</td>\n",
       "      <td>2016-02-03 11:27:00</td>\n",
       "      <td>Adoption</td>\n",
       "      <td>Foster</td>\n",
       "      <td>Dog</td>\n",
       "      <td>Neutered Male</td>\n",
       "      <td>4 years</td>\n",
       "      <td>Pit Bull Mix</td>\n",
       "      <td>Brown</td>\n",
       "    </tr>\n",
       "    <tr>\n",
       "      <th>13</th>\n",
       "      <td>A704702</td>\n",
       "      <td>Scooter</td>\n",
       "      <td>2015-06-08 16:30:00</td>\n",
       "      <td>Return_to_owner</td>\n",
       "      <td>NaN</td>\n",
       "      <td>Dog</td>\n",
       "      <td>Neutered Male</td>\n",
       "      <td>2 years</td>\n",
       "      <td>Yorkshire Terrier Mix</td>\n",
       "      <td>Black/Red</td>\n",
       "    </tr>\n",
       "    <tr>\n",
       "      <th>14</th>\n",
       "      <td>A688584</td>\n",
       "      <td>Preston</td>\n",
       "      <td>2015-11-25 15:00:00</td>\n",
       "      <td>Return_to_owner</td>\n",
       "      <td>NaN</td>\n",
       "      <td>Dog</td>\n",
       "      <td>Neutered Male</td>\n",
       "      <td>1 year</td>\n",
       "      <td>Great Pyrenees Mix</td>\n",
       "      <td>White/Cream</td>\n",
       "    </tr>\n",
       "    <tr>\n",
       "      <th>15</th>\n",
       "      <td>A678825</td>\n",
       "      <td>Oliver</td>\n",
       "      <td>2014-07-12 12:10:00</td>\n",
       "      <td>Adoption</td>\n",
       "      <td>Foster</td>\n",
       "      <td>Cat</td>\n",
       "      <td>Neutered Male</td>\n",
       "      <td>3 months</td>\n",
       "      <td>Domestic Shorthair Mix</td>\n",
       "      <td>Orange Tabby/White</td>\n",
       "    </tr>\n",
       "    <tr>\n",
       "      <th>16</th>\n",
       "      <td>A678050</td>\n",
       "      <td>NaN</td>\n",
       "      <td>2014-05-03 16:15:00</td>\n",
       "      <td>Transfer</td>\n",
       "      <td>Partner</td>\n",
       "      <td>Cat</td>\n",
       "      <td>Intact Male</td>\n",
       "      <td>3 weeks</td>\n",
       "      <td>Domestic Shorthair Mix</td>\n",
       "      <td>Brown Tabby</td>\n",
       "    </tr>\n",
       "    <tr>\n",
       "      <th>17</th>\n",
       "      <td>A680028</td>\n",
       "      <td>NaN</td>\n",
       "      <td>2014-06-07 12:54:00</td>\n",
       "      <td>Transfer</td>\n",
       "      <td>Partner</td>\n",
       "      <td>Dog</td>\n",
       "      <td>Intact Female</td>\n",
       "      <td>2 weeks</td>\n",
       "      <td>Pit Bull Mix</td>\n",
       "      <td>Brown/White</td>\n",
       "    </tr>\n",
       "    <tr>\n",
       "      <th>18</th>\n",
       "      <td>A679010</td>\n",
       "      <td>Chrissy</td>\n",
       "      <td>2014-05-17 11:32:00</td>\n",
       "      <td>Transfer</td>\n",
       "      <td>Partner</td>\n",
       "      <td>Cat</td>\n",
       "      <td>Intact Female</td>\n",
       "      <td>2 years</td>\n",
       "      <td>Angora Mix</td>\n",
       "      <td>White</td>\n",
       "    </tr>\n",
       "    <tr>\n",
       "      <th>19</th>\n",
       "      <td>A684787</td>\n",
       "      <td>Kuma</td>\n",
       "      <td>2014-07-30 17:34:00</td>\n",
       "      <td>Return_to_owner</td>\n",
       "      <td>NaN</td>\n",
       "      <td>Dog</td>\n",
       "      <td>Neutered Male</td>\n",
       "      <td>1 year</td>\n",
       "      <td>Flat Coat Retriever Mix</td>\n",
       "      <td>Black</td>\n",
       "    </tr>\n",
       "    <tr>\n",
       "      <th>20</th>\n",
       "      <td>A670658</td>\n",
       "      <td>Anders</td>\n",
       "      <td>2014-01-19 15:03:00</td>\n",
       "      <td>Transfer</td>\n",
       "      <td>Partner</td>\n",
       "      <td>Dog</td>\n",
       "      <td>Intact Male</td>\n",
       "      <td>2 months</td>\n",
       "      <td>Queensland Heeler Mix</td>\n",
       "      <td>Black/White</td>\n",
       "    </tr>\n",
       "    <tr>\n",
       "      <th>21</th>\n",
       "      <td>A708812</td>\n",
       "      <td>Munchkin</td>\n",
       "      <td>2015-09-18 15:19:00</td>\n",
       "      <td>Transfer</td>\n",
       "      <td>Partner</td>\n",
       "      <td>Cat</td>\n",
       "      <td>Spayed Female</td>\n",
       "      <td>1 year</td>\n",
       "      <td>Domestic Shorthair Mix</td>\n",
       "      <td>White</td>\n",
       "    </tr>\n",
       "    <tr>\n",
       "      <th>22</th>\n",
       "      <td>A705262</td>\n",
       "      <td>Jamaica</td>\n",
       "      <td>2015-08-15 14:22:00</td>\n",
       "      <td>Adoption</td>\n",
       "      <td>NaN</td>\n",
       "      <td>Dog</td>\n",
       "      <td>Spayed Female</td>\n",
       "      <td>2 years</td>\n",
       "      <td>Plott Hound/Boxer</td>\n",
       "      <td>Brown Brindle/White</td>\n",
       "    </tr>\n",
       "    <tr>\n",
       "      <th>23</th>\n",
       "      <td>A665781</td>\n",
       "      <td>Quattro</td>\n",
       "      <td>2013-10-28 16:32:00</td>\n",
       "      <td>Adoption</td>\n",
       "      <td>NaN</td>\n",
       "      <td>Dog</td>\n",
       "      <td>Neutered Male</td>\n",
       "      <td>10 months</td>\n",
       "      <td>German Shepherd Mix</td>\n",
       "      <td>Brown/White</td>\n",
       "    </tr>\n",
       "    <tr>\n",
       "      <th>24</th>\n",
       "      <td>A676333</td>\n",
       "      <td>Trigger</td>\n",
       "      <td>2014-04-09 17:44:00</td>\n",
       "      <td>Return_to_owner</td>\n",
       "      <td>NaN</td>\n",
       "      <td>Dog</td>\n",
       "      <td>Neutered Male</td>\n",
       "      <td>2 months</td>\n",
       "      <td>German Shepherd Mix</td>\n",
       "      <td>Black/Brown</td>\n",
       "    </tr>\n",
       "    <tr>\n",
       "      <th>25</th>\n",
       "      <td>A712750</td>\n",
       "      <td>Olive</td>\n",
       "      <td>2015-10-03 15:44:00</td>\n",
       "      <td>Transfer</td>\n",
       "      <td>Partner</td>\n",
       "      <td>Cat</td>\n",
       "      <td>Intact Female</td>\n",
       "      <td>1 month</td>\n",
       "      <td>Domestic Shorthair Mix</td>\n",
       "      <td>Orange Tabby</td>\n",
       "    </tr>\n",
       "    <tr>\n",
       "      <th>26</th>\n",
       "      <td>A718832</td>\n",
       "      <td>Nia</td>\n",
       "      <td>2016-01-15 17:31:00</td>\n",
       "      <td>Adoption</td>\n",
       "      <td>NaN</td>\n",
       "      <td>Dog</td>\n",
       "      <td>Spayed Female</td>\n",
       "      <td>6 months</td>\n",
       "      <td>American Staffordshire Terrier Mix</td>\n",
       "      <td>Chocolate/White</td>\n",
       "    </tr>\n",
       "    <tr>\n",
       "      <th>27</th>\n",
       "      <td>A698777</td>\n",
       "      <td>Chloe</td>\n",
       "      <td>2015-03-25 18:50:00</td>\n",
       "      <td>Adoption</td>\n",
       "      <td>NaN</td>\n",
       "      <td>Dog</td>\n",
       "      <td>Spayed Female</td>\n",
       "      <td>5 years</td>\n",
       "      <td>Chihuahua Shorthair Mix</td>\n",
       "      <td>White/Tan</td>\n",
       "    </tr>\n",
       "    <tr>\n",
       "      <th>28</th>\n",
       "      <td>A715348</td>\n",
       "      <td>Cymbale</td>\n",
       "      <td>2015-11-21 13:01:00</td>\n",
       "      <td>Adoption</td>\n",
       "      <td>NaN</td>\n",
       "      <td>Cat</td>\n",
       "      <td>Spayed Female</td>\n",
       "      <td>2 months</td>\n",
       "      <td>Domestic Shorthair Mix</td>\n",
       "      <td>Cream Tabby/White</td>\n",
       "    </tr>\n",
       "    <tr>\n",
       "      <th>29</th>\n",
       "      <td>A708666</td>\n",
       "      <td>Jax</td>\n",
       "      <td>2015-07-30 14:30:00</td>\n",
       "      <td>Return_to_owner</td>\n",
       "      <td>NaN</td>\n",
       "      <td>Cat</td>\n",
       "      <td>Neutered Male</td>\n",
       "      <td>7 years</td>\n",
       "      <td>Russian Blue Mix</td>\n",
       "      <td>Blue</td>\n",
       "    </tr>\n",
       "    <tr>\n",
       "      <th>...</th>\n",
       "      <td>...</td>\n",
       "      <td>...</td>\n",
       "      <td>...</td>\n",
       "      <td>...</td>\n",
       "      <td>...</td>\n",
       "      <td>...</td>\n",
       "      <td>...</td>\n",
       "      <td>...</td>\n",
       "      <td>...</td>\n",
       "      <td>...</td>\n",
       "    </tr>\n",
       "    <tr>\n",
       "      <th>26699</th>\n",
       "      <td>A676460</td>\n",
       "      <td>Mario</td>\n",
       "      <td>2014-04-21 14:01:00</td>\n",
       "      <td>Euthanasia</td>\n",
       "      <td>Behavior</td>\n",
       "      <td>Dog</td>\n",
       "      <td>Neutered Male</td>\n",
       "      <td>2 years</td>\n",
       "      <td>American Pit Bull Terrier Mix</td>\n",
       "      <td>White/Black</td>\n",
       "    </tr>\n",
       "    <tr>\n",
       "      <th>26700</th>\n",
       "      <td>A704999</td>\n",
       "      <td>Lion</td>\n",
       "      <td>2015-06-15 19:28:00</td>\n",
       "      <td>Return_to_owner</td>\n",
       "      <td>NaN</td>\n",
       "      <td>Dog</td>\n",
       "      <td>Intact Male</td>\n",
       "      <td>10 months</td>\n",
       "      <td>Great Pyrenees/Anatol Shepherd</td>\n",
       "      <td>Tan/Cream</td>\n",
       "    </tr>\n",
       "    <tr>\n",
       "      <th>26701</th>\n",
       "      <td>A678842</td>\n",
       "      <td>Ella</td>\n",
       "      <td>2014-06-15 17:41:00</td>\n",
       "      <td>Transfer</td>\n",
       "      <td>Partner</td>\n",
       "      <td>Dog</td>\n",
       "      <td>Intact Female</td>\n",
       "      <td>11 months</td>\n",
       "      <td>Jack Russell Terrier Mix</td>\n",
       "      <td>White/Black</td>\n",
       "    </tr>\n",
       "    <tr>\n",
       "      <th>26702</th>\n",
       "      <td>A713637</td>\n",
       "      <td>NaN</td>\n",
       "      <td>2015-10-11 09:42:00</td>\n",
       "      <td>Died</td>\n",
       "      <td>In Kennel</td>\n",
       "      <td>Cat</td>\n",
       "      <td>Spayed Female</td>\n",
       "      <td>2 years</td>\n",
       "      <td>Siamese Mix</td>\n",
       "      <td>Lynx Point</td>\n",
       "    </tr>\n",
       "    <tr>\n",
       "      <th>26703</th>\n",
       "      <td>A716670</td>\n",
       "      <td>Mowmow</td>\n",
       "      <td>2015-12-04 12:22:00</td>\n",
       "      <td>Transfer</td>\n",
       "      <td>Partner</td>\n",
       "      <td>Cat</td>\n",
       "      <td>Neutered Male</td>\n",
       "      <td>6 years</td>\n",
       "      <td>Domestic Longhair Mix</td>\n",
       "      <td>Seal Point</td>\n",
       "    </tr>\n",
       "    <tr>\n",
       "      <th>26704</th>\n",
       "      <td>A716223</td>\n",
       "      <td>Alice</td>\n",
       "      <td>2015-11-17 17:17:00</td>\n",
       "      <td>Transfer</td>\n",
       "      <td>Partner</td>\n",
       "      <td>Cat</td>\n",
       "      <td>Intact Female</td>\n",
       "      <td>4 weeks</td>\n",
       "      <td>Domestic Shorthair Mix</td>\n",
       "      <td>White/Black</td>\n",
       "    </tr>\n",
       "    <tr>\n",
       "      <th>26705</th>\n",
       "      <td>A662498</td>\n",
       "      <td>Grace</td>\n",
       "      <td>2013-10-19 15:34:00</td>\n",
       "      <td>Transfer</td>\n",
       "      <td>Partner</td>\n",
       "      <td>Cat</td>\n",
       "      <td>Intact Female</td>\n",
       "      <td>2 months</td>\n",
       "      <td>Domestic Shorthair Mix</td>\n",
       "      <td>Tortie</td>\n",
       "    </tr>\n",
       "    <tr>\n",
       "      <th>26706</th>\n",
       "      <td>A689942</td>\n",
       "      <td>Zoey</td>\n",
       "      <td>2014-10-19 13:29:00</td>\n",
       "      <td>Adoption</td>\n",
       "      <td>NaN</td>\n",
       "      <td>Cat</td>\n",
       "      <td>Spayed Female</td>\n",
       "      <td>2 months</td>\n",
       "      <td>Domestic Shorthair Mix</td>\n",
       "      <td>Black</td>\n",
       "    </tr>\n",
       "    <tr>\n",
       "      <th>26707</th>\n",
       "      <td>A682690</td>\n",
       "      <td>NaN</td>\n",
       "      <td>2014-07-01 17:06:00</td>\n",
       "      <td>Euthanasia</td>\n",
       "      <td>Suffering</td>\n",
       "      <td>Cat</td>\n",
       "      <td>Unknown</td>\n",
       "      <td>1 year</td>\n",
       "      <td>Domestic Shorthair Mix</td>\n",
       "      <td>Brown Tabby</td>\n",
       "    </tr>\n",
       "    <tr>\n",
       "      <th>26708</th>\n",
       "      <td>A666920</td>\n",
       "      <td>Herbie</td>\n",
       "      <td>2013-11-13 17:32:00</td>\n",
       "      <td>Transfer</td>\n",
       "      <td>Partner</td>\n",
       "      <td>Dog</td>\n",
       "      <td>Neutered Male</td>\n",
       "      <td>2 years</td>\n",
       "      <td>Chihuahua Shorthair Mix</td>\n",
       "      <td>White/Brown</td>\n",
       "    </tr>\n",
       "    <tr>\n",
       "      <th>26709</th>\n",
       "      <td>A714386</td>\n",
       "      <td>NaN</td>\n",
       "      <td>2015-10-24 00:00:00</td>\n",
       "      <td>Adoption</td>\n",
       "      <td>NaN</td>\n",
       "      <td>Dog</td>\n",
       "      <td>Spayed Female</td>\n",
       "      <td>1 month</td>\n",
       "      <td>Chihuahua Shorthair Mix</td>\n",
       "      <td>Sable/Buff</td>\n",
       "    </tr>\n",
       "    <tr>\n",
       "      <th>26710</th>\n",
       "      <td>A692622</td>\n",
       "      <td>Bonnie</td>\n",
       "      <td>2014-11-24 17:21:00</td>\n",
       "      <td>Transfer</td>\n",
       "      <td>Partner</td>\n",
       "      <td>Dog</td>\n",
       "      <td>Intact Female</td>\n",
       "      <td>1 month</td>\n",
       "      <td>Chihuahua Shorthair/Yorkshire Terrier</td>\n",
       "      <td>Brown/Black</td>\n",
       "    </tr>\n",
       "    <tr>\n",
       "      <th>26711</th>\n",
       "      <td>A666284</td>\n",
       "      <td>Sonja</td>\n",
       "      <td>2013-10-30 18:32:00</td>\n",
       "      <td>Transfer</td>\n",
       "      <td>Partner</td>\n",
       "      <td>Dog</td>\n",
       "      <td>Intact Female</td>\n",
       "      <td>1 year</td>\n",
       "      <td>Cocker Spaniel/Dachshund</td>\n",
       "      <td>Buff</td>\n",
       "    </tr>\n",
       "    <tr>\n",
       "      <th>26712</th>\n",
       "      <td>A535277</td>\n",
       "      <td>Merlin</td>\n",
       "      <td>2015-04-20 16:04:00</td>\n",
       "      <td>Return_to_owner</td>\n",
       "      <td>NaN</td>\n",
       "      <td>Dog</td>\n",
       "      <td>Neutered Male</td>\n",
       "      <td>12 years</td>\n",
       "      <td>Rat Terrier</td>\n",
       "      <td>Chocolate/Tan</td>\n",
       "    </tr>\n",
       "    <tr>\n",
       "      <th>26713</th>\n",
       "      <td>A671169</td>\n",
       "      <td>NaN</td>\n",
       "      <td>2014-01-20 17:37:00</td>\n",
       "      <td>Euthanasia</td>\n",
       "      <td>Suffering</td>\n",
       "      <td>Cat</td>\n",
       "      <td>Intact Female</td>\n",
       "      <td>18 years</td>\n",
       "      <td>Domestic Longhair Mix</td>\n",
       "      <td>Tortie</td>\n",
       "    </tr>\n",
       "    <tr>\n",
       "      <th>26714</th>\n",
       "      <td>A679031</td>\n",
       "      <td>Pete</td>\n",
       "      <td>2014-05-31 16:11:00</td>\n",
       "      <td>Adoption</td>\n",
       "      <td>NaN</td>\n",
       "      <td>Cat</td>\n",
       "      <td>Spayed Female</td>\n",
       "      <td>2 months</td>\n",
       "      <td>Domestic Shorthair Mix</td>\n",
       "      <td>Orange Tabby</td>\n",
       "    </tr>\n",
       "    <tr>\n",
       "      <th>26715</th>\n",
       "      <td>A708833</td>\n",
       "      <td>Luna</td>\n",
       "      <td>2015-08-05 17:03:00</td>\n",
       "      <td>Adoption</td>\n",
       "      <td>NaN</td>\n",
       "      <td>Dog</td>\n",
       "      <td>Spayed Female</td>\n",
       "      <td>2 months</td>\n",
       "      <td>Pointer Mix</td>\n",
       "      <td>Black/White</td>\n",
       "    </tr>\n",
       "    <tr>\n",
       "      <th>26716</th>\n",
       "      <td>A697158</td>\n",
       "      <td>Max</td>\n",
       "      <td>2015-05-02 21:04:00</td>\n",
       "      <td>Adoption</td>\n",
       "      <td>Offsite</td>\n",
       "      <td>Dog</td>\n",
       "      <td>Neutered Male</td>\n",
       "      <td>2 months</td>\n",
       "      <td>Newfoundland Mix</td>\n",
       "      <td>White/Black</td>\n",
       "    </tr>\n",
       "    <tr>\n",
       "      <th>26717</th>\n",
       "      <td>A519949</td>\n",
       "      <td>Bella</td>\n",
       "      <td>2014-06-30 17:34:00</td>\n",
       "      <td>Return_to_owner</td>\n",
       "      <td>NaN</td>\n",
       "      <td>Dog</td>\n",
       "      <td>Spayed Female</td>\n",
       "      <td>9 years</td>\n",
       "      <td>Bullmastiff Mix</td>\n",
       "      <td>Black</td>\n",
       "    </tr>\n",
       "    <tr>\n",
       "      <th>26718</th>\n",
       "      <td>A701044</td>\n",
       "      <td>NaN</td>\n",
       "      <td>2015-04-28 14:26:00</td>\n",
       "      <td>Adoption</td>\n",
       "      <td>NaN</td>\n",
       "      <td>Dog</td>\n",
       "      <td>Neutered Male</td>\n",
       "      <td>2 months</td>\n",
       "      <td>Siberian Husky/German Shepherd</td>\n",
       "      <td>Black/Tricolor</td>\n",
       "    </tr>\n",
       "    <tr>\n",
       "      <th>26719</th>\n",
       "      <td>A707871</td>\n",
       "      <td>NaN</td>\n",
       "      <td>2015-07-20 09:00:00</td>\n",
       "      <td>Transfer</td>\n",
       "      <td>SCRP</td>\n",
       "      <td>Cat</td>\n",
       "      <td>Unknown</td>\n",
       "      <td>2 years</td>\n",
       "      <td>Domestic Shorthair Mix</td>\n",
       "      <td>Brown Tabby/White</td>\n",
       "    </tr>\n",
       "    <tr>\n",
       "      <th>26720</th>\n",
       "      <td>A704405</td>\n",
       "      <td>Brownie</td>\n",
       "      <td>2015-07-18 14:08:00</td>\n",
       "      <td>Adoption</td>\n",
       "      <td>NaN</td>\n",
       "      <td>Cat</td>\n",
       "      <td>Spayed Female</td>\n",
       "      <td>2 months</td>\n",
       "      <td>Domestic Shorthair Mix</td>\n",
       "      <td>Brown Tabby</td>\n",
       "    </tr>\n",
       "    <tr>\n",
       "      <th>26721</th>\n",
       "      <td>A662019</td>\n",
       "      <td>Green Bean</td>\n",
       "      <td>2014-07-17 09:43:00</td>\n",
       "      <td>Adoption</td>\n",
       "      <td>Foster</td>\n",
       "      <td>Cat</td>\n",
       "      <td>Spayed Female</td>\n",
       "      <td>5 years</td>\n",
       "      <td>Domestic Shorthair Mix</td>\n",
       "      <td>Black</td>\n",
       "    </tr>\n",
       "    <tr>\n",
       "      <th>26722</th>\n",
       "      <td>A687056</td>\n",
       "      <td>NaN</td>\n",
       "      <td>2014-08-31 09:00:00</td>\n",
       "      <td>Transfer</td>\n",
       "      <td>SCRP</td>\n",
       "      <td>Cat</td>\n",
       "      <td>Intact Male</td>\n",
       "      <td>5 months</td>\n",
       "      <td>Domestic Shorthair Mix</td>\n",
       "      <td>Orange Tabby</td>\n",
       "    </tr>\n",
       "    <tr>\n",
       "      <th>26723</th>\n",
       "      <td>A716997</td>\n",
       "      <td>Zeus</td>\n",
       "      <td>2016-01-29 18:52:00</td>\n",
       "      <td>Adoption</td>\n",
       "      <td>NaN</td>\n",
       "      <td>Dog</td>\n",
       "      <td>Neutered Male</td>\n",
       "      <td>6 years</td>\n",
       "      <td>Staffordshire Mix</td>\n",
       "      <td>Blue/White</td>\n",
       "    </tr>\n",
       "    <tr>\n",
       "      <th>26724</th>\n",
       "      <td>A702446</td>\n",
       "      <td>NaN</td>\n",
       "      <td>2015-05-14 11:56:00</td>\n",
       "      <td>Transfer</td>\n",
       "      <td>Partner</td>\n",
       "      <td>Cat</td>\n",
       "      <td>Intact Male</td>\n",
       "      <td>1 month</td>\n",
       "      <td>Domestic Shorthair Mix</td>\n",
       "      <td>Brown Tabby/White</td>\n",
       "    </tr>\n",
       "    <tr>\n",
       "      <th>26725</th>\n",
       "      <td>A718934</td>\n",
       "      <td>NaN</td>\n",
       "      <td>2016-01-20 18:59:00</td>\n",
       "      <td>Transfer</td>\n",
       "      <td>SCRP</td>\n",
       "      <td>Cat</td>\n",
       "      <td>Spayed Female</td>\n",
       "      <td>3 months</td>\n",
       "      <td>Domestic Shorthair Mix</td>\n",
       "      <td>Brown Tabby</td>\n",
       "    </tr>\n",
       "    <tr>\n",
       "      <th>26726</th>\n",
       "      <td>A698128</td>\n",
       "      <td>Zeus</td>\n",
       "      <td>2015-03-09 13:33:00</td>\n",
       "      <td>Adoption</td>\n",
       "      <td>NaN</td>\n",
       "      <td>Dog</td>\n",
       "      <td>Neutered Male</td>\n",
       "      <td>4 years</td>\n",
       "      <td>Old English Bulldog Mix</td>\n",
       "      <td>White/Tan</td>\n",
       "    </tr>\n",
       "    <tr>\n",
       "      <th>26727</th>\n",
       "      <td>A677478</td>\n",
       "      <td>NaN</td>\n",
       "      <td>2014-04-27 12:22:00</td>\n",
       "      <td>Transfer</td>\n",
       "      <td>Partner</td>\n",
       "      <td>Cat</td>\n",
       "      <td>Intact Male</td>\n",
       "      <td>4 weeks</td>\n",
       "      <td>Domestic Shorthair Mix</td>\n",
       "      <td>Black</td>\n",
       "    </tr>\n",
       "    <tr>\n",
       "      <th>26728</th>\n",
       "      <td>A706629</td>\n",
       "      <td>NaN</td>\n",
       "      <td>2015-07-02 09:00:00</td>\n",
       "      <td>Transfer</td>\n",
       "      <td>SCRP</td>\n",
       "      <td>Cat</td>\n",
       "      <td>Intact Male</td>\n",
       "      <td>1 year</td>\n",
       "      <td>Domestic Shorthair Mix</td>\n",
       "      <td>Brown Tabby/White</td>\n",
       "    </tr>\n",
       "  </tbody>\n",
       "</table>\n",
       "<p>26729 rows × 10 columns</p>\n",
       "</div>"
      ],
      "text/plain": [
       "      AnimalID        Name             DateTime      OutcomeType  \\\n",
       "0      A671945     Hambone  2014-02-12 18:22:00  Return_to_owner   \n",
       "1      A656520       Emily  2013-10-13 12:44:00       Euthanasia   \n",
       "2      A686464      Pearce  2015-01-31 12:28:00         Adoption   \n",
       "3      A683430         NaN  2014-07-11 19:09:00         Transfer   \n",
       "4      A667013         NaN  2013-11-15 12:52:00         Transfer   \n",
       "5      A677334        Elsa  2014-04-25 13:04:00         Transfer   \n",
       "6      A699218       Jimmy  2015-03-28 13:11:00         Transfer   \n",
       "7      A701489         NaN  2015-04-30 17:02:00         Transfer   \n",
       "8      A671784        Lucy  2014-02-04 17:17:00         Adoption   \n",
       "9      A677747         NaN  2014-05-03 07:48:00         Adoption   \n",
       "10     A668402         NaN  2013-12-05 15:50:00         Transfer   \n",
       "11     A666320         NaN  2013-11-04 14:48:00         Adoption   \n",
       "12     A684601      Rocket  2016-02-03 11:27:00         Adoption   \n",
       "13     A704702     Scooter  2015-06-08 16:30:00  Return_to_owner   \n",
       "14     A688584     Preston  2015-11-25 15:00:00  Return_to_owner   \n",
       "15     A678825      Oliver  2014-07-12 12:10:00         Adoption   \n",
       "16     A678050         NaN  2014-05-03 16:15:00         Transfer   \n",
       "17     A680028         NaN  2014-06-07 12:54:00         Transfer   \n",
       "18     A679010     Chrissy  2014-05-17 11:32:00         Transfer   \n",
       "19     A684787        Kuma  2014-07-30 17:34:00  Return_to_owner   \n",
       "20     A670658      Anders  2014-01-19 15:03:00         Transfer   \n",
       "21     A708812    Munchkin  2015-09-18 15:19:00         Transfer   \n",
       "22     A705262     Jamaica  2015-08-15 14:22:00         Adoption   \n",
       "23     A665781     Quattro  2013-10-28 16:32:00         Adoption   \n",
       "24     A676333     Trigger  2014-04-09 17:44:00  Return_to_owner   \n",
       "25     A712750       Olive  2015-10-03 15:44:00         Transfer   \n",
       "26     A718832         Nia  2016-01-15 17:31:00         Adoption   \n",
       "27     A698777       Chloe  2015-03-25 18:50:00         Adoption   \n",
       "28     A715348     Cymbale  2015-11-21 13:01:00         Adoption   \n",
       "29     A708666         Jax  2015-07-30 14:30:00  Return_to_owner   \n",
       "...        ...         ...                  ...              ...   \n",
       "26699  A676460       Mario  2014-04-21 14:01:00       Euthanasia   \n",
       "26700  A704999        Lion  2015-06-15 19:28:00  Return_to_owner   \n",
       "26701  A678842        Ella  2014-06-15 17:41:00         Transfer   \n",
       "26702  A713637         NaN  2015-10-11 09:42:00             Died   \n",
       "26703  A716670      Mowmow  2015-12-04 12:22:00         Transfer   \n",
       "26704  A716223       Alice  2015-11-17 17:17:00         Transfer   \n",
       "26705  A662498       Grace  2013-10-19 15:34:00         Transfer   \n",
       "26706  A689942        Zoey  2014-10-19 13:29:00         Adoption   \n",
       "26707  A682690         NaN  2014-07-01 17:06:00       Euthanasia   \n",
       "26708  A666920      Herbie  2013-11-13 17:32:00         Transfer   \n",
       "26709  A714386         NaN  2015-10-24 00:00:00         Adoption   \n",
       "26710  A692622      Bonnie  2014-11-24 17:21:00         Transfer   \n",
       "26711  A666284       Sonja  2013-10-30 18:32:00         Transfer   \n",
       "26712  A535277      Merlin  2015-04-20 16:04:00  Return_to_owner   \n",
       "26713  A671169         NaN  2014-01-20 17:37:00       Euthanasia   \n",
       "26714  A679031        Pete  2014-05-31 16:11:00         Adoption   \n",
       "26715  A708833        Luna  2015-08-05 17:03:00         Adoption   \n",
       "26716  A697158         Max  2015-05-02 21:04:00         Adoption   \n",
       "26717  A519949       Bella  2014-06-30 17:34:00  Return_to_owner   \n",
       "26718  A701044         NaN  2015-04-28 14:26:00         Adoption   \n",
       "26719  A707871         NaN  2015-07-20 09:00:00         Transfer   \n",
       "26720  A704405     Brownie  2015-07-18 14:08:00         Adoption   \n",
       "26721  A662019  Green Bean  2014-07-17 09:43:00         Adoption   \n",
       "26722  A687056         NaN  2014-08-31 09:00:00         Transfer   \n",
       "26723  A716997        Zeus  2016-01-29 18:52:00         Adoption   \n",
       "26724  A702446         NaN  2015-05-14 11:56:00         Transfer   \n",
       "26725  A718934         NaN  2016-01-20 18:59:00         Transfer   \n",
       "26726  A698128        Zeus  2015-03-09 13:33:00         Adoption   \n",
       "26727  A677478         NaN  2014-04-27 12:22:00         Transfer   \n",
       "26728  A706629         NaN  2015-07-02 09:00:00         Transfer   \n",
       "\n",
       "      OutcomeSubtype AnimalType SexuponOutcome AgeuponOutcome  \\\n",
       "0                NaN        Dog  Neutered Male         1 year   \n",
       "1          Suffering        Cat  Spayed Female         1 year   \n",
       "2             Foster        Dog  Neutered Male        2 years   \n",
       "3            Partner        Cat    Intact Male        3 weeks   \n",
       "4            Partner        Dog  Neutered Male        2 years   \n",
       "5            Partner        Dog  Intact Female        1 month   \n",
       "6            Partner        Cat    Intact Male        3 weeks   \n",
       "7            Partner        Cat        Unknown        3 weeks   \n",
       "8                NaN        Dog  Spayed Female       5 months   \n",
       "9            Offsite        Dog  Spayed Female         1 year   \n",
       "10              SCRP        Cat        Unknown        2 years   \n",
       "11               NaN        Dog  Spayed Female        2 years   \n",
       "12            Foster        Dog  Neutered Male        4 years   \n",
       "13               NaN        Dog  Neutered Male        2 years   \n",
       "14               NaN        Dog  Neutered Male         1 year   \n",
       "15            Foster        Cat  Neutered Male       3 months   \n",
       "16           Partner        Cat    Intact Male        3 weeks   \n",
       "17           Partner        Dog  Intact Female        2 weeks   \n",
       "18           Partner        Cat  Intact Female        2 years   \n",
       "19               NaN        Dog  Neutered Male         1 year   \n",
       "20           Partner        Dog    Intact Male       2 months   \n",
       "21           Partner        Cat  Spayed Female         1 year   \n",
       "22               NaN        Dog  Spayed Female        2 years   \n",
       "23               NaN        Dog  Neutered Male      10 months   \n",
       "24               NaN        Dog  Neutered Male       2 months   \n",
       "25           Partner        Cat  Intact Female        1 month   \n",
       "26               NaN        Dog  Spayed Female       6 months   \n",
       "27               NaN        Dog  Spayed Female        5 years   \n",
       "28               NaN        Cat  Spayed Female       2 months   \n",
       "29               NaN        Cat  Neutered Male        7 years   \n",
       "...              ...        ...            ...            ...   \n",
       "26699       Behavior        Dog  Neutered Male        2 years   \n",
       "26700            NaN        Dog    Intact Male      10 months   \n",
       "26701        Partner        Dog  Intact Female      11 months   \n",
       "26702      In Kennel        Cat  Spayed Female        2 years   \n",
       "26703        Partner        Cat  Neutered Male        6 years   \n",
       "26704        Partner        Cat  Intact Female        4 weeks   \n",
       "26705        Partner        Cat  Intact Female       2 months   \n",
       "26706            NaN        Cat  Spayed Female       2 months   \n",
       "26707      Suffering        Cat        Unknown         1 year   \n",
       "26708        Partner        Dog  Neutered Male        2 years   \n",
       "26709            NaN        Dog  Spayed Female        1 month   \n",
       "26710        Partner        Dog  Intact Female        1 month   \n",
       "26711        Partner        Dog  Intact Female         1 year   \n",
       "26712            NaN        Dog  Neutered Male       12 years   \n",
       "26713      Suffering        Cat  Intact Female       18 years   \n",
       "26714            NaN        Cat  Spayed Female       2 months   \n",
       "26715            NaN        Dog  Spayed Female       2 months   \n",
       "26716        Offsite        Dog  Neutered Male       2 months   \n",
       "26717            NaN        Dog  Spayed Female        9 years   \n",
       "26718            NaN        Dog  Neutered Male       2 months   \n",
       "26719           SCRP        Cat        Unknown        2 years   \n",
       "26720            NaN        Cat  Spayed Female       2 months   \n",
       "26721         Foster        Cat  Spayed Female        5 years   \n",
       "26722           SCRP        Cat    Intact Male       5 months   \n",
       "26723            NaN        Dog  Neutered Male        6 years   \n",
       "26724        Partner        Cat    Intact Male        1 month   \n",
       "26725           SCRP        Cat  Spayed Female       3 months   \n",
       "26726            NaN        Dog  Neutered Male        4 years   \n",
       "26727        Partner        Cat    Intact Male        4 weeks   \n",
       "26728           SCRP        Cat    Intact Male         1 year   \n",
       "\n",
       "                                       Breed                Color  \n",
       "0                      Shetland Sheepdog Mix          Brown/White  \n",
       "1                     Domestic Shorthair Mix          Cream Tabby  \n",
       "2                               Pit Bull Mix           Blue/White  \n",
       "3                     Domestic Shorthair Mix           Blue Cream  \n",
       "4                Lhasa Apso/Miniature Poodle                  Tan  \n",
       "5          Cairn Terrier/Chihuahua Shorthair            Black/Tan  \n",
       "6                     Domestic Shorthair Mix           Blue Tabby  \n",
       "7                     Domestic Shorthair Mix          Brown Tabby  \n",
       "8              American Pit Bull Terrier Mix            Red/White  \n",
       "9                              Cairn Terrier                White  \n",
       "10                    Domestic Shorthair Mix                Black  \n",
       "11                   Miniature Schnauzer Mix               Silver  \n",
       "12                              Pit Bull Mix                Brown  \n",
       "13                     Yorkshire Terrier Mix            Black/Red  \n",
       "14                        Great Pyrenees Mix          White/Cream  \n",
       "15                    Domestic Shorthair Mix   Orange Tabby/White  \n",
       "16                    Domestic Shorthair Mix          Brown Tabby  \n",
       "17                              Pit Bull Mix          Brown/White  \n",
       "18                                Angora Mix                White  \n",
       "19                   Flat Coat Retriever Mix                Black  \n",
       "20                     Queensland Heeler Mix          Black/White  \n",
       "21                    Domestic Shorthair Mix                White  \n",
       "22                         Plott Hound/Boxer  Brown Brindle/White  \n",
       "23                       German Shepherd Mix          Brown/White  \n",
       "24                       German Shepherd Mix          Black/Brown  \n",
       "25                    Domestic Shorthair Mix         Orange Tabby  \n",
       "26        American Staffordshire Terrier Mix      Chocolate/White  \n",
       "27                   Chihuahua Shorthair Mix            White/Tan  \n",
       "28                    Domestic Shorthair Mix    Cream Tabby/White  \n",
       "29                          Russian Blue Mix                 Blue  \n",
       "...                                      ...                  ...  \n",
       "26699          American Pit Bull Terrier Mix          White/Black  \n",
       "26700         Great Pyrenees/Anatol Shepherd            Tan/Cream  \n",
       "26701               Jack Russell Terrier Mix          White/Black  \n",
       "26702                            Siamese Mix           Lynx Point  \n",
       "26703                  Domestic Longhair Mix           Seal Point  \n",
       "26704                 Domestic Shorthair Mix          White/Black  \n",
       "26705                 Domestic Shorthair Mix               Tortie  \n",
       "26706                 Domestic Shorthair Mix                Black  \n",
       "26707                 Domestic Shorthair Mix          Brown Tabby  \n",
       "26708                Chihuahua Shorthair Mix          White/Brown  \n",
       "26709                Chihuahua Shorthair Mix           Sable/Buff  \n",
       "26710  Chihuahua Shorthair/Yorkshire Terrier          Brown/Black  \n",
       "26711               Cocker Spaniel/Dachshund                 Buff  \n",
       "26712                            Rat Terrier        Chocolate/Tan  \n",
       "26713                  Domestic Longhair Mix               Tortie  \n",
       "26714                 Domestic Shorthair Mix         Orange Tabby  \n",
       "26715                            Pointer Mix          Black/White  \n",
       "26716                       Newfoundland Mix          White/Black  \n",
       "26717                        Bullmastiff Mix                Black  \n",
       "26718         Siberian Husky/German Shepherd       Black/Tricolor  \n",
       "26719                 Domestic Shorthair Mix    Brown Tabby/White  \n",
       "26720                 Domestic Shorthair Mix          Brown Tabby  \n",
       "26721                 Domestic Shorthair Mix                Black  \n",
       "26722                 Domestic Shorthair Mix         Orange Tabby  \n",
       "26723                      Staffordshire Mix           Blue/White  \n",
       "26724                 Domestic Shorthair Mix    Brown Tabby/White  \n",
       "26725                 Domestic Shorthair Mix          Brown Tabby  \n",
       "26726                Old English Bulldog Mix            White/Tan  \n",
       "26727                 Domestic Shorthair Mix                Black  \n",
       "26728                 Domestic Shorthair Mix    Brown Tabby/White  \n",
       "\n",
       "[26729 rows x 10 columns]"
      ]
     },
     "execution_count": 6,
     "metadata": {},
     "output_type": "execute_result"
    }
   ],
   "source": [
    "pd.read_csv('train.csv') "
   ]
  },
  {
   "cell_type": "markdown",
   "metadata": {},
   "source": [
    "## Задание:\n",
    "\n",
    "1) Заполните пропуски. Для \"древесных\" алгоритмов, как правило, пропуски заполняются несуществующими значениями, которые далеко отстоят от реальных значений.\n",
    "\n",
    "2) Категориальные признаки преобразуйте с помощью pd.get_dummies , а лучше его аналогом  <a href=\"http://scikit-learn.org/stable/modules/generated/sklearn.preprocessing.OneHotEncoder.html\">OneHotEncoder</a> . Придумайте, что можно сделать с тем случаем, когда get_dummies создает слишком много колонок.\n",
    "\n",
    "2) Поставьте n_estimators=200 и найдите ту комбинацию признаков в датасете, которая дает лучший результат.\n",
    "\n",
    "3) С помощью feature\\_importances\\_  оцените, какие признаки были самыми важными в классификации\n",
    "\n",
    "4) Постройте зависимость oob\\_score\\_ относительно количества деревьев в лесе и выберете оптимальное значение n_estimators\n",
    "\n",
    "5) Померьте качество RF на кросс-валидации: <a href=\"http://scikit-learn.org/stable/modules/generated/sklearn.model_selection.cross_val_score.html\">cross_val_score</a> на 5-ти фолдах. Отличается ли среднее значение от oob\\_score\\_?"
   ]
  },
  {
   "cell_type": "code",
   "execution_count": 7,
   "metadata": {
    "ExecuteTime": {
     "end_time": "2017-11-25T00:10:40.029158Z",
     "start_time": "2017-11-25T00:10:39.922861Z"
    },
    "collapsed": true
   },
   "outputs": [],
   "source": [
    "df = pd.read_csv('train.csv')"
   ]
  },
  {
   "cell_type": "code",
   "execution_count": 8,
   "metadata": {
    "ExecuteTime": {
     "end_time": "2017-11-25T00:10:40.052286Z",
     "start_time": "2017-11-25T00:10:40.030890Z"
    }
   },
   "outputs": [
    {
     "name": "stdout",
     "output_type": "stream",
     "text": [
      "<class 'pandas.core.frame.DataFrame'>\n",
      "RangeIndex: 26729 entries, 0 to 26728\n",
      "Data columns (total 10 columns):\n",
      "AnimalID          26729 non-null object\n",
      "Name              19038 non-null object\n",
      "DateTime          26729 non-null object\n",
      "OutcomeType       26729 non-null object\n",
      "OutcomeSubtype    13117 non-null object\n",
      "AnimalType        26729 non-null object\n",
      "SexuponOutcome    26728 non-null object\n",
      "AgeuponOutcome    26711 non-null object\n",
      "Breed             26729 non-null object\n",
      "Color             26729 non-null object\n",
      "dtypes: object(10)\n",
      "memory usage: 2.0+ MB\n"
     ]
    }
   ],
   "source": [
    "df.info()"
   ]
  },
  {
   "cell_type": "code",
   "execution_count": 9,
   "metadata": {
    "ExecuteTime": {
     "end_time": "2017-11-25T00:10:40.067408Z",
     "start_time": "2017-11-25T00:10:40.054076Z"
    }
   },
   "outputs": [
    {
     "data": {
      "text/plain": [
       "Neutered Male    0.365857\n",
       "Spayed Female    0.329979\n",
       "Intact Male      0.131879\n",
       "Intact Female    0.131355\n",
       "Unknown          0.040892\n",
       "NaN              0.000037\n",
       "Name: SexuponOutcome, dtype: float64"
      ]
     },
     "execution_count": 9,
     "metadata": {},
     "output_type": "execute_result"
    }
   ],
   "source": [
    "df['SexuponOutcome'].value_counts(normalize=True, dropna=False)"
   ]
  },
  {
   "cell_type": "code",
   "execution_count": 10,
   "metadata": {
    "ExecuteTime": {
     "end_time": "2017-11-25T00:10:40.076348Z",
     "start_time": "2017-11-25T00:10:40.070056Z"
    },
    "collapsed": true
   },
   "outputs": [],
   "source": [
    "df['SexuponOutcomeNoNan'] = df['SexuponOutcome'].fillna('Neutered Male')"
   ]
  },
  {
   "cell_type": "code",
   "execution_count": 11,
   "metadata": {
    "ExecuteTime": {
     "end_time": "2017-11-25T00:10:40.085471Z",
     "start_time": "2017-11-25T00:10:40.078092Z"
    },
    "collapsed": true
   },
   "outputs": [],
   "source": [
    "df['SexuponOutcomeNoNan'] = \\\n",
    "    df['SexuponOutcomeNoNan'].replace({'Unknown': 'Neutered Male'})"
   ]
  },
  {
   "cell_type": "code",
   "execution_count": 12,
   "metadata": {
    "ExecuteTime": {
     "end_time": "2017-11-25T00:10:40.102672Z",
     "start_time": "2017-11-25T00:10:40.087546Z"
    }
   },
   "outputs": [
    {
     "data": {
      "text/plain": [
       "Neutered Male    0.406787\n",
       "Spayed Female    0.329979\n",
       "Intact Male      0.131879\n",
       "Intact Female    0.131355\n",
       "Name: SexuponOutcomeNoNan, dtype: float64"
      ]
     },
     "execution_count": 12,
     "metadata": {},
     "output_type": "execute_result"
    }
   ],
   "source": [
    "df['SexuponOutcomeNoNan'].value_counts(normalize=True, dropna=False)"
   ]
  },
  {
   "cell_type": "code",
   "execution_count": 14,
   "metadata": {
    "ExecuteTime": {
     "end_time": "2017-11-25T00:10:51.682629Z",
     "start_time": "2017-11-25T00:10:51.671146Z"
    },
    "collapsed": true
   },
   "outputs": [],
   "source": [
    "def calc_age_in_years(x):\n",
    "    x = str(x)\n",
    "    if x == 'nan': \n",
    "        return np.nan\n",
    "    age = int(x.split()[0]) \n",
    "    if 'year' in x: \n",
    "        return age \n",
    "    if 'month' in x: \n",
    "        return age / 12.\n",
    "    if 'week' in x: \n",
    "        return age / 52.\n",
    "    if 'day' in x: \n",
    "        return age / 365.25\n",
    "    else:\n",
    "        raise 'Unknown format'"
   ]
  },
  {
   "cell_type": "code",
   "execution_count": 15,
   "metadata": {
    "ExecuteTime": {
     "end_time": "2017-11-25T00:10:55.442220Z",
     "start_time": "2017-11-25T00:10:55.396283Z"
    },
    "collapsed": true
   },
   "outputs": [],
   "source": [
    "df['AgeuponOutcomeNoNan'] = df['AgeuponOutcome'].map(calc_age_in_years)"
   ]
  },
  {
   "cell_type": "code",
   "execution_count": 16,
   "metadata": {
    "ExecuteTime": {
     "end_time": "2017-11-25T00:10:55.451023Z",
     "start_time": "2017-11-25T00:10:55.444100Z"
    },
    "collapsed": true
   },
   "outputs": [],
   "source": [
    "df['AgeuponOutcomeNoNan'] = \\\n",
    "    df['AgeuponOutcomeNoNan'].fillna(np.mean(df['AgeuponOutcomeNoNan']))"
   ]
  },
  {
   "cell_type": "code",
   "execution_count": 17,
   "metadata": {
    "ExecuteTime": {
     "end_time": "2017-11-25T00:10:55.458776Z",
     "start_time": "2017-11-25T00:10:55.452704Z"
    },
    "collapsed": true
   },
   "outputs": [],
   "source": [
    "df['DoesNotHaveName'] = df['Name'].isnull()"
   ]
  },
  {
   "cell_type": "code",
   "execution_count": 18,
   "metadata": {
    "ExecuteTime": {
     "end_time": "2017-11-25T00:10:55.469770Z",
     "start_time": "2017-11-25T00:10:55.460505Z"
    },
    "collapsed": true
   },
   "outputs": [],
   "source": [
    "df['NameNoNan'] = df['Name'].replace({np.nan: 'Unknown'})"
   ]
  },
  {
   "cell_type": "code",
   "execution_count": 19,
   "metadata": {
    "ExecuteTime": {
     "end_time": "2017-11-25T00:10:55.476694Z",
     "start_time": "2017-11-25T00:10:55.471708Z"
    }
   },
   "outputs": [
    {
     "data": {
      "text/plain": [
       "2.1772438474448013"
      ]
     },
     "execution_count": 19,
     "metadata": {},
     "output_type": "execute_result"
    }
   ],
   "source": [
    "df['AgeuponOutcomeNoNan'].mean()"
   ]
  },
  {
   "cell_type": "code",
   "execution_count": 20,
   "metadata": {
    "ExecuteTime": {
     "end_time": "2017-11-25T00:10:55.502512Z",
     "start_time": "2017-11-25T00:10:55.478577Z"
    },
    "collapsed": true
   },
   "outputs": [],
   "source": [
    "df['Sex'] = df['SexuponOutcomeNoNan'].map(lambda x: 'Male' in x)"
   ]
  },
  {
   "cell_type": "code",
   "execution_count": 21,
   "metadata": {
    "ExecuteTime": {
     "end_time": "2017-11-25T00:10:55.528405Z",
     "start_time": "2017-11-25T00:10:55.505294Z"
    },
    "collapsed": true
   },
   "outputs": [],
   "source": [
    "df['Sex'] = df['SexuponOutcomeNoNan'].map({'Neutered Male': 1,\n",
    "                                           'Intact Male': 1,\n",
    "                                           'Spayed Female': 0,\n",
    "                                           'Intact Female': 0})"
   ]
  },
  {
   "cell_type": "code",
   "execution_count": 22,
   "metadata": {
    "ExecuteTime": {
     "end_time": "2017-11-25T00:10:55.552683Z",
     "start_time": "2017-11-25T00:10:55.537813Z"
    },
    "collapsed": true
   },
   "outputs": [],
   "source": [
    "df['Intact'] = df['SexuponOutcomeNoNan'].map({'Neutered Male': 0,\n",
    "                                           'Intact Male': 1,\n",
    "                                           'Spayed Female': 0,\n",
    "                                           'Intact Female': 1})"
   ]
  },
  {
   "cell_type": "code",
   "execution_count": 23,
   "metadata": {
    "ExecuteTime": {
     "end_time": "2017-11-25T00:10:55.576231Z",
     "start_time": "2017-11-25T00:10:55.554586Z"
    },
    "collapsed": true
   },
   "outputs": [],
   "source": [
    "df['Mix'] = df['Breed'].map(\n",
    "    lambda x: 'mix' in x.lower() or '/' in x)"
   ]
  },
  {
   "cell_type": "code",
   "execution_count": 24,
   "metadata": {
    "ExecuteTime": {
     "end_time": "2017-11-25T00:10:55.619894Z",
     "start_time": "2017-11-25T00:10:55.578648Z"
    },
    "collapsed": true
   },
   "outputs": [],
   "source": [
    "breed_counts = dict(df['Breed'].value_counts(normalize=True))"
   ]
  },
  {
   "cell_type": "code",
   "execution_count": 25,
   "metadata": {
    "ExecuteTime": {
     "end_time": "2017-11-25T00:10:55.628511Z",
     "start_time": "2017-11-25T00:10:55.621636Z"
    },
    "collapsed": true
   },
   "outputs": [],
   "source": [
    "df['BreedFreq'] = df['Breed'].map(breed_counts)"
   ]
  },
  {
   "cell_type": "code",
   "execution_count": 26,
   "metadata": {
    "ExecuteTime": {
     "end_time": "2017-11-25T00:10:55.637329Z",
     "start_time": "2017-11-25T00:10:55.631018Z"
    },
    "collapsed": true
   },
   "outputs": [],
   "source": [
    "df['AnimalTypeBool'] = df['AnimalType'].map({'Dog': 1, 'Cat': 0})"
   ]
  },
  {
   "cell_type": "code",
   "execution_count": 27,
   "metadata": {
    "ExecuteTime": {
     "end_time": "2017-11-25T00:10:56.340258Z",
     "start_time": "2017-11-25T00:10:55.639262Z"
    },
    "collapsed": true
   },
   "outputs": [],
   "source": [
    "df['datetime'] = pd.to_datetime(df['DateTime'])\n",
    "\n",
    "df['feat_year'] = df['datetime'].map(lambda x: x.year)\n",
    "df['feat_month'] = df['datetime'].map(lambda x: x.month)\n",
    "df['feat_day'] = df['datetime'].map(lambda x: x.day)\n",
    "df['feat_hour'] = df['datetime'].map(lambda x: x.hour)\n",
    "df['feat_minute'] = df['datetime'].map(lambda x: x.minute)\n",
    "df['feat_weekday'] = df['datetime'].map(lambda x: x.weekday())"
   ]
  },
  {
   "cell_type": "code",
   "execution_count": 28,
   "metadata": {
    "ExecuteTime": {
     "end_time": "2017-11-25T00:10:56.355131Z",
     "start_time": "2017-11-25T00:10:56.351468Z"
    },
    "collapsed": true
   },
   "outputs": [],
   "source": [
    "pd.set_option('display.max_columns', None)"
   ]
  },
  {
   "cell_type": "code",
   "execution_count": 29,
   "metadata": {
    "ExecuteTime": {
     "end_time": "2017-11-25T00:10:56.410288Z",
     "start_time": "2017-11-25T00:10:56.361412Z"
    },
    "collapsed": true
   },
   "outputs": [],
   "source": [
    "df_clean = df[['AgeuponOutcomeNoNan', \n",
    "               'DoesNotHaveName',\n",
    "               'Sex',\n",
    "               'Intact',\n",
    "               'Mix', \n",
    "               'BreedFreq',\n",
    "               'AnimalTypeBool',\n",
    "               'feat_year',\n",
    "               'feat_month',\n",
    "               'feat_day',\n",
    "               'feat_hour', \n",
    "               'feat_minute',\n",
    "               'feat_weekday'\n",
    "              ]]"
   ]
  },
  {
   "cell_type": "code",
   "execution_count": 30,
   "metadata": {
    "ExecuteTime": {
     "end_time": "2017-11-25T00:10:56.594426Z",
     "start_time": "2017-11-25T00:10:56.414015Z"
    },
    "collapsed": true
   },
   "outputs": [],
   "source": [
    "from sklearn.ensemble import RandomForestClassifier\n",
    "\n",
    "rf = RandomForestClassifier(n_estimators=200, \n",
    "                            oob_score=True, \n",
    "                            random_state=42,\n",
    "                            warm_start=True,\n",
    "                            n_jobs=-1)"
   ]
  },
  {
   "cell_type": "code",
   "execution_count": 31,
   "metadata": {
    "ExecuteTime": {
     "end_time": "2017-11-25T00:11:01.082238Z",
     "start_time": "2017-11-25T00:10:56.596401Z"
    }
   },
   "outputs": [
    {
     "data": {
      "text/plain": [
       "0.7007370271989225"
      ]
     },
     "execution_count": 31,
     "metadata": {},
     "output_type": "execute_result"
    }
   ],
   "source": [
    "rf.fit(df_clean, df['OutcomeType'])\n",
    "rf.oob_score_"
   ]
  },
  {
   "cell_type": "code",
   "execution_count": 33,
   "metadata": {
    "ExecuteTime": {
     "end_time": "2017-11-25T00:12:41.144588Z",
     "start_time": "2017-11-25T00:11:11.184491Z"
    }
   },
   "outputs": [
    {
     "name": "stdout",
     "output_type": "stream",
     "text": [
      "200\n"
     ]
    },
    {
     "name": "stderr",
     "output_type": "stream",
     "text": [
      "/Users/i.slinko/miniconda3/lib/python3.6/site-packages/sklearn/ensemble/forest.py:305: UserWarning: Warm-start fitting without increasing n_estimators does not fit new trees.\n",
      "  warn(\"Warm-start fitting without increasing n_estimators does not \"\n"
     ]
    },
    {
     "name": "stdout",
     "output_type": "stream",
     "text": [
      "250\n",
      "300\n",
      "350\n",
      "400\n",
      "450\n",
      "500\n",
      "550\n",
      "600\n",
      "650\n",
      "700\n",
      "750\n",
      "800\n",
      "850\n",
      "900\n",
      "950\n",
      "1000\n",
      "1050\n",
      "1100\n",
      "1150\n",
      "1200\n",
      "1250\n",
      "1300\n",
      "1350\n",
      "1400\n",
      "1450\n",
      "1500\n"
     ]
    }
   ],
   "source": [
    "oob_scores = []\n",
    "for n_estimators in np.arange(200, 1501, 50):\n",
    "    print(n_estimators)\n",
    "    rf.set_params(n_estimators=n_estimators)\n",
    "    rf.fit(df_clean, df['OutcomeType'])\n",
    "    oob_scores.append(rf.oob_score_)"
   ]
  },
  {
   "cell_type": "code",
   "execution_count": 35,
   "metadata": {
    "ExecuteTime": {
     "end_time": "2017-11-25T00:12:54.367028Z",
     "start_time": "2017-11-25T00:12:54.202669Z"
    }
   },
   "outputs": [
    {
     "data": {
      "text/plain": [
       "[<matplotlib.lines.Line2D at 0x11fb18320>]"
      ]
     },
     "execution_count": 35,
     "metadata": {},
     "output_type": "execute_result"
    },
    {
     "data": {
      "image/png": "[encoded data removed]",
      "text/plain": [
       "<matplotlib.figure.Figure at 0x111ccd908>"
      ]
     },
     "metadata": {},
     "output_type": "display_data"
    }
   ],
   "source": [
    "from matplotlib import pyplot as plt\n",
    "plt.plot(np.arange(200, 1501, 50), oob_scores)"
   ]
  },
  {
   "cell_type": "code",
   "execution_count": 36,
   "metadata": {
    "ExecuteTime": {
     "end_time": "2017-11-25T00:12:57.768369Z",
     "start_time": "2017-11-25T00:12:57.715897Z"
    },
    "collapsed": true
   },
   "outputs": [],
   "source": [
    "from sklearn.model_selection import StratifiedKFold\n",
    "kfold = StratifiedKFold(n_splits=5, shuffle=True, random_state=42)"
   ]
  },
  {
   "cell_type": "markdown",
   "metadata": {},
   "source": [
    "### GridSearch"
   ]
  },
  {
   "cell_type": "code",
   "execution_count": 38,
   "metadata": {
    "ExecuteTime": {
     "end_time": "2017-11-25T00:32:41.337515Z",
     "start_time": "2017-11-25T00:15:50.645160Z"
    },
    "scrolled": true
   },
   "outputs": [
    {
     "name": "stdout",
     "output_type": "stream",
     "text": [
      "Fitting 5 folds for each of 24 candidates, totalling 120 fits\n",
      "[CV] criterion=gini, max_depth=4, max_features=log2 ..................\n",
      "[CV] ... criterion=gini, max_depth=4, max_features=log2, total=   2.8s\n",
      "[CV] criterion=gini, max_depth=4, max_features=log2 ..................\n"
     ]
    },
    {
     "name": "stderr",
     "output_type": "stream",
     "text": [
      "[Parallel(n_jobs=1)]: Done   1 out of   1 | elapsed:    3.4s remaining:    0.0s\n"
     ]
    },
    {
     "name": "stdout",
     "output_type": "stream",
     "text": [
      "[CV] ... criterion=gini, max_depth=4, max_features=log2, total=   3.2s\n",
      "[CV] criterion=gini, max_depth=4, max_features=log2 ..................\n",
      "[CV] ... criterion=gini, max_depth=4, max_features=log2, total=   2.8s\n",
      "[CV] criterion=gini, max_depth=4, max_features=log2 ..................\n",
      "[CV] ... criterion=gini, max_depth=4, max_features=log2, total=   3.1s\n",
      "[CV] criterion=gini, max_depth=4, max_features=log2 ..................\n",
      "[CV] ... criterion=gini, max_depth=4, max_features=log2, total=   2.8s\n",
      "[CV] criterion=gini, max_depth=4, max_features=sqrt ..................\n",
      "[CV] ... criterion=gini, max_depth=4, max_features=sqrt, total=   2.8s\n",
      "[CV] criterion=gini, max_depth=4, max_features=sqrt ..................\n",
      "[CV] ... criterion=gini, max_depth=4, max_features=sqrt, total=   3.2s\n",
      "[CV] criterion=gini, max_depth=4, max_features=sqrt ..................\n",
      "[CV] ... criterion=gini, max_depth=4, max_features=sqrt, total=   2.7s\n",
      "[CV] criterion=gini, max_depth=4, max_features=sqrt ..................\n",
      "[CV] ... criterion=gini, max_depth=4, max_features=sqrt, total=   2.8s\n",
      "[CV] criterion=gini, max_depth=4, max_features=sqrt ..................\n",
      "[CV] ... criterion=gini, max_depth=4, max_features=sqrt, total=   2.7s\n",
      "[CV] criterion=gini, max_depth=4, max_features=None ..................\n",
      "[CV] ... criterion=gini, max_depth=4, max_features=None, total=   6.9s\n",
      "[CV] criterion=gini, max_depth=4, max_features=None ..................\n",
      "[CV] ... criterion=gini, max_depth=4, max_features=None, total=   6.4s\n",
      "[CV] criterion=gini, max_depth=4, max_features=None ..................\n",
      "[CV] ... criterion=gini, max_depth=4, max_features=None, total=   5.4s\n",
      "[CV] criterion=gini, max_depth=4, max_features=None ..................\n",
      "[CV] ... criterion=gini, max_depth=4, max_features=None, total=   5.8s\n",
      "[CV] criterion=gini, max_depth=4, max_features=None ..................\n",
      "[CV] ... criterion=gini, max_depth=4, max_features=None, total=   5.4s\n",
      "[CV] criterion=gini, max_depth=7, max_features=log2 ..................\n",
      "[CV] ... criterion=gini, max_depth=7, max_features=log2, total=   3.7s\n",
      "[CV] criterion=gini, max_depth=7, max_features=log2 ..................\n",
      "[CV] ... criterion=gini, max_depth=7, max_features=log2, total=   3.4s\n",
      "[CV] criterion=gini, max_depth=7, max_features=log2 ..................\n",
      "[CV] ... criterion=gini, max_depth=7, max_features=log2, total=   3.4s\n",
      "[CV] criterion=gini, max_depth=7, max_features=log2 ..................\n",
      "[CV] ... criterion=gini, max_depth=7, max_features=log2, total=   3.5s\n",
      "[CV] criterion=gini, max_depth=7, max_features=log2 ..................\n",
      "[CV] ... criterion=gini, max_depth=7, max_features=log2, total=   3.5s\n",
      "[CV] criterion=gini, max_depth=7, max_features=sqrt ..................\n",
      "[CV] ... criterion=gini, max_depth=7, max_features=sqrt, total=   3.5s\n",
      "[CV] criterion=gini, max_depth=7, max_features=sqrt ..................\n",
      "[CV] ... criterion=gini, max_depth=7, max_features=sqrt, total=   3.4s\n",
      "[CV] criterion=gini, max_depth=7, max_features=sqrt ..................\n",
      "[CV] ... criterion=gini, max_depth=7, max_features=sqrt, total=   4.3s\n",
      "[CV] criterion=gini, max_depth=7, max_features=sqrt ..................\n",
      "[CV] ... criterion=gini, max_depth=7, max_features=sqrt, total=   3.9s\n",
      "[CV] criterion=gini, max_depth=7, max_features=sqrt ..................\n",
      "[CV] ... criterion=gini, max_depth=7, max_features=sqrt, total=   3.5s\n",
      "[CV] criterion=gini, max_depth=7, max_features=None ..................\n",
      "[CV] ... criterion=gini, max_depth=7, max_features=None, total=   7.7s\n",
      "[CV] criterion=gini, max_depth=7, max_features=None ..................\n",
      "[CV] ... criterion=gini, max_depth=7, max_features=None, total=   8.1s\n",
      "[CV] criterion=gini, max_depth=7, max_features=None ..................\n",
      "[CV] ... criterion=gini, max_depth=7, max_features=None, total=   8.7s\n",
      "[CV] criterion=gini, max_depth=7, max_features=None ..................\n",
      "[CV] ... criterion=gini, max_depth=7, max_features=None, total=   8.0s\n",
      "[CV] criterion=gini, max_depth=7, max_features=None ..................\n",
      "[CV] ... criterion=gini, max_depth=7, max_features=None, total=   9.0s\n",
      "[CV] criterion=gini, max_depth=10, max_features=log2 .................\n",
      "[CV] .. criterion=gini, max_depth=10, max_features=log2, total=   4.4s\n",
      "[CV] criterion=gini, max_depth=10, max_features=log2 .................\n",
      "[CV] .. criterion=gini, max_depth=10, max_features=log2, total=   4.2s\n",
      "[CV] criterion=gini, max_depth=10, max_features=log2 .................\n",
      "[CV] .. criterion=gini, max_depth=10, max_features=log2, total=   4.6s\n",
      "[CV] criterion=gini, max_depth=10, max_features=log2 .................\n",
      "[CV] .. criterion=gini, max_depth=10, max_features=log2, total=   4.4s\n",
      "[CV] criterion=gini, max_depth=10, max_features=log2 .................\n",
      "[CV] .. criterion=gini, max_depth=10, max_features=log2, total=   4.7s\n",
      "[CV] criterion=gini, max_depth=10, max_features=sqrt .................\n",
      "[CV] .. criterion=gini, max_depth=10, max_features=sqrt, total=   4.3s\n",
      "[CV] criterion=gini, max_depth=10, max_features=sqrt .................\n",
      "[CV] .. criterion=gini, max_depth=10, max_features=sqrt, total=   5.3s\n",
      "[CV] criterion=gini, max_depth=10, max_features=sqrt .................\n",
      "[CV] .. criterion=gini, max_depth=10, max_features=sqrt, total=   7.1s\n",
      "[CV] criterion=gini, max_depth=10, max_features=sqrt .................\n",
      "[CV] .. criterion=gini, max_depth=10, max_features=sqrt, total=   5.8s\n",
      "[CV] criterion=gini, max_depth=10, max_features=sqrt .................\n",
      "[CV] .. criterion=gini, max_depth=10, max_features=sqrt, total=   5.1s\n",
      "[CV] criterion=gini, max_depth=10, max_features=None .................\n",
      "[CV] .. criterion=gini, max_depth=10, max_features=None, total=  11.9s\n",
      "[CV] criterion=gini, max_depth=10, max_features=None .................\n",
      "[CV] .. criterion=gini, max_depth=10, max_features=None, total=  13.8s\n",
      "[CV] criterion=gini, max_depth=10, max_features=None .................\n",
      "[CV] .. criterion=gini, max_depth=10, max_features=None, total=  16.6s\n",
      "[CV] criterion=gini, max_depth=10, max_features=None .................\n",
      "[CV] .. criterion=gini, max_depth=10, max_features=None, total=  12.6s\n",
      "[CV] criterion=gini, max_depth=10, max_features=None .................\n",
      "[CV] .. criterion=gini, max_depth=10, max_features=None, total=  12.3s\n",
      "[CV] criterion=gini, max_depth=None, max_features=log2 ...............\n",
      "[CV]  criterion=gini, max_depth=None, max_features=log2, total=   8.2s\n",
      "[CV] criterion=gini, max_depth=None, max_features=log2 ...............\n",
      "[CV]  criterion=gini, max_depth=None, max_features=log2, total=   8.0s\n",
      "[CV] criterion=gini, max_depth=None, max_features=log2 ...............\n",
      "[CV]  criterion=gini, max_depth=None, max_features=log2, total=  10.6s\n",
      "[CV] criterion=gini, max_depth=None, max_features=log2 ...............\n",
      "[CV]  criterion=gini, max_depth=None, max_features=log2, total=   7.3s\n",
      "[CV] criterion=gini, max_depth=None, max_features=log2 ...............\n",
      "[CV]  criterion=gini, max_depth=None, max_features=log2, total=   7.1s\n",
      "[CV] criterion=gini, max_depth=None, max_features=sqrt ...............\n",
      "[CV]  criterion=gini, max_depth=None, max_features=sqrt, total=   7.2s\n",
      "[CV] criterion=gini, max_depth=None, max_features=sqrt ...............\n",
      "[CV]  criterion=gini, max_depth=None, max_features=sqrt, total=   8.1s\n",
      "[CV] criterion=gini, max_depth=None, max_features=sqrt ...............\n",
      "[CV]  criterion=gini, max_depth=None, max_features=sqrt, total=   8.3s\n",
      "[CV] criterion=gini, max_depth=None, max_features=sqrt ...............\n",
      "[CV]  criterion=gini, max_depth=None, max_features=sqrt, total=   9.6s\n",
      "[CV] criterion=gini, max_depth=None, max_features=sqrt ...............\n",
      "[CV]  criterion=gini, max_depth=None, max_features=sqrt, total=   7.3s\n",
      "[CV] criterion=gini, max_depth=None, max_features=None ...............\n",
      "[CV]  criterion=gini, max_depth=None, max_features=None, total=  18.8s\n",
      "[CV] criterion=gini, max_depth=None, max_features=None ...............\n",
      "[CV]  criterion=gini, max_depth=None, max_features=None, total=  17.4s\n",
      "[CV] criterion=gini, max_depth=None, max_features=None ...............\n",
      "[CV]  criterion=gini, max_depth=None, max_features=None, total=  17.4s\n",
      "[CV] criterion=gini, max_depth=None, max_features=None ...............\n",
      "[CV]  criterion=gini, max_depth=None, max_features=None, total=  18.1s\n",
      "[CV] criterion=gini, max_depth=None, max_features=None ...............\n"
     ]
    },
    {
     "name": "stdout",
     "output_type": "stream",
     "text": [
      "[CV]  criterion=gini, max_depth=None, max_features=None, total=  18.1s\n",
      "[CV] criterion=entropy, max_depth=4, max_features=log2 ...............\n",
      "[CV]  criterion=entropy, max_depth=4, max_features=log2, total=   2.6s\n",
      "[CV] criterion=entropy, max_depth=4, max_features=log2 ...............\n",
      "[CV]  criterion=entropy, max_depth=4, max_features=log2, total=   2.7s\n",
      "[CV] criterion=entropy, max_depth=4, max_features=log2 ...............\n",
      "[CV]  criterion=entropy, max_depth=4, max_features=log2, total=   3.1s\n",
      "[CV] criterion=entropy, max_depth=4, max_features=log2 ...............\n",
      "[CV]  criterion=entropy, max_depth=4, max_features=log2, total=   3.4s\n",
      "[CV] criterion=entropy, max_depth=4, max_features=log2 ...............\n",
      "[CV]  criterion=entropy, max_depth=4, max_features=log2, total=   3.8s\n",
      "[CV] criterion=entropy, max_depth=4, max_features=sqrt ...............\n",
      "[CV]  criterion=entropy, max_depth=4, max_features=sqrt, total=   2.7s\n",
      "[CV] criterion=entropy, max_depth=4, max_features=sqrt ...............\n",
      "[CV]  criterion=entropy, max_depth=4, max_features=sqrt, total=   3.0s\n",
      "[CV] criterion=entropy, max_depth=4, max_features=sqrt ...............\n",
      "[CV]  criterion=entropy, max_depth=4, max_features=sqrt, total=   3.3s\n",
      "[CV] criterion=entropy, max_depth=4, max_features=sqrt ...............\n",
      "[CV]  criterion=entropy, max_depth=4, max_features=sqrt, total=   2.9s\n",
      "[CV] criterion=entropy, max_depth=4, max_features=sqrt ...............\n",
      "[CV]  criterion=entropy, max_depth=4, max_features=sqrt, total=   3.5s\n",
      "[CV] criterion=entropy, max_depth=4, max_features=None ...............\n",
      "[CV]  criterion=entropy, max_depth=4, max_features=None, total=   7.9s\n",
      "[CV] criterion=entropy, max_depth=4, max_features=None ...............\n",
      "[CV]  criterion=entropy, max_depth=4, max_features=None, total=   9.2s\n",
      "[CV] criterion=entropy, max_depth=4, max_features=None ...............\n",
      "[CV]  criterion=entropy, max_depth=4, max_features=None, total=   6.0s\n",
      "[CV] criterion=entropy, max_depth=4, max_features=None ...............\n",
      "[CV]  criterion=entropy, max_depth=4, max_features=None, total=   6.2s\n",
      "[CV] criterion=entropy, max_depth=4, max_features=None ...............\n",
      "[CV]  criterion=entropy, max_depth=4, max_features=None, total=   5.9s\n",
      "[CV] criterion=entropy, max_depth=7, max_features=log2 ...............\n",
      "[CV]  criterion=entropy, max_depth=7, max_features=log2, total=   3.8s\n",
      "[CV] criterion=entropy, max_depth=7, max_features=log2 ...............\n",
      "[CV]  criterion=entropy, max_depth=7, max_features=log2, total=   4.3s\n",
      "[CV] criterion=entropy, max_depth=7, max_features=log2 ...............\n",
      "[CV]  criterion=entropy, max_depth=7, max_features=log2, total=   3.9s\n",
      "[CV] criterion=entropy, max_depth=7, max_features=log2 ...............\n",
      "[CV]  criterion=entropy, max_depth=7, max_features=log2, total=   3.8s\n",
      "[CV] criterion=entropy, max_depth=7, max_features=log2 ...............\n",
      "[CV]  criterion=entropy, max_depth=7, max_features=log2, total=   3.7s\n",
      "[CV] criterion=entropy, max_depth=7, max_features=sqrt ...............\n",
      "[CV]  criterion=entropy, max_depth=7, max_features=sqrt, total=   3.9s\n",
      "[CV] criterion=entropy, max_depth=7, max_features=sqrt ...............\n",
      "[CV]  criterion=entropy, max_depth=7, max_features=sqrt, total=   3.6s\n",
      "[CV] criterion=entropy, max_depth=7, max_features=sqrt ...............\n",
      "[CV]  criterion=entropy, max_depth=7, max_features=sqrt, total=   4.2s\n",
      "[CV] criterion=entropy, max_depth=7, max_features=sqrt ...............\n",
      "[CV]  criterion=entropy, max_depth=7, max_features=sqrt, total=   3.8s\n",
      "[CV] criterion=entropy, max_depth=7, max_features=sqrt ...............\n",
      "[CV]  criterion=entropy, max_depth=7, max_features=sqrt, total=   4.2s\n",
      "[CV] criterion=entropy, max_depth=7, max_features=None ...............\n",
      "[CV]  criterion=entropy, max_depth=7, max_features=None, total=  10.6s\n",
      "[CV] criterion=entropy, max_depth=7, max_features=None ...............\n",
      "[CV]  criterion=entropy, max_depth=7, max_features=None, total=  11.0s\n",
      "[CV] criterion=entropy, max_depth=7, max_features=None ...............\n",
      "[CV]  criterion=entropy, max_depth=7, max_features=None, total=   9.8s\n",
      "[CV] criterion=entropy, max_depth=7, max_features=None ...............\n",
      "[CV]  criterion=entropy, max_depth=7, max_features=None, total=   8.9s\n",
      "[CV] criterion=entropy, max_depth=7, max_features=None ...............\n",
      "[CV]  criterion=entropy, max_depth=7, max_features=None, total=  10.8s\n",
      "[CV] criterion=entropy, max_depth=10, max_features=log2 ..............\n",
      "[CV]  criterion=entropy, max_depth=10, max_features=log2, total=   5.8s\n",
      "[CV] criterion=entropy, max_depth=10, max_features=log2 ..............\n",
      "[CV]  criterion=entropy, max_depth=10, max_features=log2, total=   4.6s\n",
      "[CV] criterion=entropy, max_depth=10, max_features=log2 ..............\n",
      "[CV]  criterion=entropy, max_depth=10, max_features=log2, total=   5.0s\n",
      "[CV] criterion=entropy, max_depth=10, max_features=log2 ..............\n",
      "[CV]  criterion=entropy, max_depth=10, max_features=log2, total=   5.7s\n",
      "[CV] criterion=entropy, max_depth=10, max_features=log2 ..............\n",
      "[CV]  criterion=entropy, max_depth=10, max_features=log2, total=   4.6s\n",
      "[CV] criterion=entropy, max_depth=10, max_features=sqrt ..............\n",
      "[CV]  criterion=entropy, max_depth=10, max_features=sqrt, total=   4.5s\n",
      "[CV] criterion=entropy, max_depth=10, max_features=sqrt ..............\n",
      "[CV]  criterion=entropy, max_depth=10, max_features=sqrt, total=   4.9s\n",
      "[CV] criterion=entropy, max_depth=10, max_features=sqrt ..............\n",
      "[CV]  criterion=entropy, max_depth=10, max_features=sqrt, total=   5.7s\n",
      "[CV] criterion=entropy, max_depth=10, max_features=sqrt ..............\n",
      "[CV]  criterion=entropy, max_depth=10, max_features=sqrt, total=   5.1s\n",
      "[CV] criterion=entropy, max_depth=10, max_features=sqrt ..............\n",
      "[CV]  criterion=entropy, max_depth=10, max_features=sqrt, total=   4.9s\n",
      "[CV] criterion=entropy, max_depth=10, max_features=None ..............\n",
      "[CV]  criterion=entropy, max_depth=10, max_features=None, total=  13.1s\n",
      "[CV] criterion=entropy, max_depth=10, max_features=None ..............\n",
      "[CV]  criterion=entropy, max_depth=10, max_features=None, total=  14.1s\n",
      "[CV] criterion=entropy, max_depth=10, max_features=None ..............\n",
      "[CV]  criterion=entropy, max_depth=10, max_features=None, total=  11.9s\n",
      "[CV] criterion=entropy, max_depth=10, max_features=None ..............\n",
      "[CV]  criterion=entropy, max_depth=10, max_features=None, total=  12.1s\n",
      "[CV] criterion=entropy, max_depth=10, max_features=None ..............\n",
      "[CV]  criterion=entropy, max_depth=10, max_features=None, total=  11.9s\n",
      "[CV] criterion=entropy, max_depth=None, max_features=log2 ............\n",
      "[CV]  criterion=entropy, max_depth=None, max_features=log2, total=   8.7s\n",
      "[CV] criterion=entropy, max_depth=None, max_features=log2 ............\n",
      "[CV]  criterion=entropy, max_depth=None, max_features=log2, total=   8.3s\n",
      "[CV] criterion=entropy, max_depth=None, max_features=log2 ............\n",
      "[CV]  criterion=entropy, max_depth=None, max_features=log2, total=   8.2s\n",
      "[CV] criterion=entropy, max_depth=None, max_features=log2 ............\n",
      "[CV]  criterion=entropy, max_depth=None, max_features=log2, total=   8.2s\n",
      "[CV] criterion=entropy, max_depth=None, max_features=log2 ............\n",
      "[CV]  criterion=entropy, max_depth=None, max_features=log2, total=   8.2s\n",
      "[CV] criterion=entropy, max_depth=None, max_features=sqrt ............\n",
      "[CV]  criterion=entropy, max_depth=None, max_features=sqrt, total=   8.3s\n",
      "[CV] criterion=entropy, max_depth=None, max_features=sqrt ............\n",
      "[CV]  criterion=entropy, max_depth=None, max_features=sqrt, total=   9.3s\n",
      "[CV] criterion=entropy, max_depth=None, max_features=sqrt ............\n",
      "[CV]  criterion=entropy, max_depth=None, max_features=sqrt, total=   8.7s\n",
      "[CV] criterion=entropy, max_depth=None, max_features=sqrt ............\n",
      "[CV]  criterion=entropy, max_depth=None, max_features=sqrt, total=  11.4s\n",
      "[CV] criterion=entropy, max_depth=None, max_features=sqrt ............\n",
      "[CV]  criterion=entropy, max_depth=None, max_features=sqrt, total=   8.7s\n",
      "[CV] criterion=entropy, max_depth=None, max_features=None ............\n",
      "[CV]  criterion=entropy, max_depth=None, max_features=None, total=  21.0s\n",
      "[CV] criterion=entropy, max_depth=None, max_features=None ............\n",
      "[CV]  criterion=entropy, max_depth=None, max_features=None, total=  22.6s\n",
      "[CV] criterion=entropy, max_depth=None, max_features=None ............\n"
     ]
    },
    {
     "name": "stdout",
     "output_type": "stream",
     "text": [
      "[CV]  criterion=entropy, max_depth=None, max_features=None, total=  22.4s\n",
      "[CV] criterion=entropy, max_depth=None, max_features=None ............\n",
      "[CV]  criterion=entropy, max_depth=None, max_features=None, total=  22.7s\n",
      "[CV] criterion=entropy, max_depth=None, max_features=None ............\n",
      "[CV]  criterion=entropy, max_depth=None, max_features=None, total=  20.3s\n"
     ]
    },
    {
     "name": "stderr",
     "output_type": "stream",
     "text": [
      "[Parallel(n_jobs=1)]: Done 120 out of 120 | elapsed: 16.7min finished\n"
     ]
    },
    {
     "data": {
      "text/plain": [
       "GridSearchCV(cv=StratifiedKFold(n_splits=5, random_state=42, shuffle=True),\n",
       "       error_score='raise',\n",
       "       estimator=RandomForestClassifier(bootstrap=True, class_weight=None, criterion='gini',\n",
       "            max_depth=None, max_features='auto', max_leaf_nodes=None,\n",
       "            min_impurity_decrease=0.0, min_impurity_split=None,\n",
       "            min_samples_leaf=1, min_samples_split=2,\n",
       "            min_weight_fraction_leaf=0.0, n_estimators=850, n_jobs=-1,\n",
       "            oob_score=False, random_state=42, verbose=0, warm_start=False),\n",
       "       fit_params=None, iid=True, n_jobs=1,\n",
       "       param_grid={'criterion': ['gini', 'entropy'], 'max_depth': [4, 7, 10, None], 'max_features': ['log2', 'sqrt', None]},\n",
       "       pre_dispatch='2*n_jobs', refit=True, return_train_score='warn',\n",
       "       scoring=None, verbose=2)"
      ]
     },
     "execution_count": 38,
     "metadata": {},
     "output_type": "execute_result"
    }
   ],
   "source": [
    "from sklearn.model_selection import GridSearchCV\n",
    "rf = RandomForestClassifier(n_estimators=850, \n",
    "                            random_state=42,\n",
    "                            n_jobs=-1)\n",
    "\n",
    "grid_search = GridSearchCV(rf, \n",
    "                           {'criterion': ['gini', 'entropy'],\n",
    "                            'max_depth': [4, 7, 10, None],\n",
    "                            'max_features': ['log2', 'sqrt', None]},\n",
    "                           cv=kfold,\n",
    "                           verbose=2)\n",
    "grid_search.fit(df_clean, df['OutcomeType'])"
   ]
  },
  {
   "cell_type": "code",
   "execution_count": 39,
   "metadata": {
    "ExecuteTime": {
     "end_time": "2017-11-25T00:34:03.296660Z",
     "start_time": "2017-11-25T00:34:03.291487Z"
    }
   },
   "outputs": [
    {
     "data": {
      "text/plain": [
       "{'criterion': 'gini', 'max_depth': None, 'max_features': 'log2'}"
      ]
     },
     "execution_count": 39,
     "metadata": {},
     "output_type": "execute_result"
    }
   ],
   "source": [
    "grid_search.best_params_"
   ]
  },
  {
   "cell_type": "code",
   "execution_count": 44,
   "metadata": {
    "ExecuteTime": {
     "end_time": "2017-11-25T00:38:36.421058Z",
     "start_time": "2017-11-25T00:38:36.413719Z"
    }
   },
   "outputs": [
    {
     "name": "stderr",
     "output_type": "stream",
     "text": [
      "/Users/i.slinko/miniconda3/lib/python3.6/site-packages/sklearn/model_selection/_search.py:761: DeprecationWarning: The grid_scores_ attribute was deprecated in version 0.18 in favor of the more elaborate cv_results_ attribute. The grid_scores_ attribute will not be available from 0.20\n",
      "  DeprecationWarning)\n"
     ]
    },
    {
     "data": {
      "text/plain": [
       "[mean: 0.61686, std: 0.00416, params: {'criterion': 'gini', 'max_depth': 4, 'max_features': 'log2'},\n",
       " mean: 0.61686, std: 0.00416, params: {'criterion': 'gini', 'max_depth': 4, 'max_features': 'sqrt'},\n",
       " mean: 0.63190, std: 0.00630, params: {'criterion': 'gini', 'max_depth': 4, 'max_features': None},\n",
       " mean: 0.66026, std: 0.00590, params: {'criterion': 'gini', 'max_depth': 7, 'max_features': 'log2'},\n",
       " mean: 0.66026, std: 0.00590, params: {'criterion': 'gini', 'max_depth': 7, 'max_features': 'sqrt'},\n",
       " mean: 0.67335, std: 0.00748, params: {'criterion': 'gini', 'max_depth': 7, 'max_features': None},\n",
       " mean: 0.68046, std: 0.00579, params: {'criterion': 'gini', 'max_depth': 10, 'max_features': 'log2'},\n",
       " mean: 0.68046, std: 0.00579, params: {'criterion': 'gini', 'max_depth': 10, 'max_features': 'sqrt'},\n",
       " mean: 0.68413, std: 0.00511, params: {'criterion': 'gini', 'max_depth': 10, 'max_features': None},\n",
       " mean: 0.70265, std: 0.00548, params: {'criterion': 'gini', 'max_depth': None, 'max_features': 'log2'},\n",
       " mean: 0.70265, std: 0.00548, params: {'criterion': 'gini', 'max_depth': None, 'max_features': 'sqrt'},\n",
       " mean: 0.69415, std: 0.00388, params: {'criterion': 'gini', 'max_depth': None, 'max_features': None},\n",
       " mean: 0.61439, std: 0.00519, params: {'criterion': 'entropy', 'max_depth': 4, 'max_features': 'log2'},\n",
       " mean: 0.61439, std: 0.00519, params: {'criterion': 'entropy', 'max_depth': 4, 'max_features': 'sqrt'},\n",
       " mean: 0.61244, std: 0.00635, params: {'criterion': 'entropy', 'max_depth': 4, 'max_features': None},\n",
       " mean: 0.65790, std: 0.00509, params: {'criterion': 'entropy', 'max_depth': 7, 'max_features': 'log2'},\n",
       " mean: 0.65790, std: 0.00509, params: {'criterion': 'entropy', 'max_depth': 7, 'max_features': 'sqrt'},\n",
       " mean: 0.67111, std: 0.00817, params: {'criterion': 'entropy', 'max_depth': 7, 'max_features': None},\n",
       " mean: 0.68121, std: 0.00664, params: {'criterion': 'entropy', 'max_depth': 10, 'max_features': 'log2'},\n",
       " mean: 0.68121, std: 0.00664, params: {'criterion': 'entropy', 'max_depth': 10, 'max_features': 'sqrt'},\n",
       " mean: 0.68207, std: 0.00848, params: {'criterion': 'entropy', 'max_depth': 10, 'max_features': None},\n",
       " mean: 0.70119, std: 0.00422, params: {'criterion': 'entropy', 'max_depth': None, 'max_features': 'log2'},\n",
       " mean: 0.70119, std: 0.00422, params: {'criterion': 'entropy', 'max_depth': None, 'max_features': 'sqrt'},\n",
       " mean: 0.69591, std: 0.00426, params: {'criterion': 'entropy', 'max_depth': None, 'max_features': None}]"
      ]
     },
     "execution_count": 44,
     "metadata": {},
     "output_type": "execute_result"
    }
   ],
   "source": [
    "grid_search.grid_scores_"
   ]
  },
  {
   "cell_type": "markdown",
   "metadata": {},
   "source": [
    "### RandomizedSearch"
   ]
  },
  {
   "cell_type": "code",
   "execution_count": 46,
   "metadata": {
    "ExecuteTime": {
     "end_time": "2017-11-25T00:45:52.496147Z",
     "start_time": "2017-11-25T00:40:11.690129Z"
    }
   },
   "outputs": [
    {
     "name": "stdout",
     "output_type": "stream",
     "text": [
      "Fitting 5 folds for each of 10 candidates, totalling 50 fits\n",
      "[CV] max_features=sqrt, max_depth=10, criterion=entropy ..............\n",
      "[CV]  max_features=sqrt, max_depth=10, criterion=entropy, total=   4.7s\n",
      "[CV] max_features=sqrt, max_depth=10, criterion=entropy ..............\n"
     ]
    },
    {
     "name": "stderr",
     "output_type": "stream",
     "text": [
      "[Parallel(n_jobs=1)]: Done   1 out of   1 | elapsed:    5.6s remaining:    0.0s\n"
     ]
    },
    {
     "name": "stdout",
     "output_type": "stream",
     "text": [
      "[CV]  max_features=sqrt, max_depth=10, criterion=entropy, total=   4.7s\n",
      "[CV] max_features=sqrt, max_depth=10, criterion=entropy ..............\n",
      "[CV]  max_features=sqrt, max_depth=10, criterion=entropy, total=   5.5s\n",
      "[CV] max_features=sqrt, max_depth=10, criterion=entropy ..............\n",
      "[CV]  max_features=sqrt, max_depth=10, criterion=entropy, total=   5.4s\n",
      "[CV] max_features=sqrt, max_depth=10, criterion=entropy ..............\n",
      "[CV]  max_features=sqrt, max_depth=10, criterion=entropy, total=   6.5s\n",
      "[CV] max_features=sqrt, max_depth=10, criterion=gini .................\n",
      "[CV] .. max_features=sqrt, max_depth=10, criterion=gini, total=   4.5s\n",
      "[CV] max_features=sqrt, max_depth=10, criterion=gini .................\n",
      "[CV] .. max_features=sqrt, max_depth=10, criterion=gini, total=   4.4s\n",
      "[CV] max_features=sqrt, max_depth=10, criterion=gini .................\n",
      "[CV] .. max_features=sqrt, max_depth=10, criterion=gini, total=   4.5s\n",
      "[CV] max_features=sqrt, max_depth=10, criterion=gini .................\n",
      "[CV] .. max_features=sqrt, max_depth=10, criterion=gini, total=   5.1s\n",
      "[CV] max_features=sqrt, max_depth=10, criterion=gini .................\n",
      "[CV] .. max_features=sqrt, max_depth=10, criterion=gini, total=   5.1s\n",
      "[CV] max_features=log2, max_depth=None, criterion=entropy ............\n",
      "[CV]  max_features=log2, max_depth=None, criterion=entropy, total=   9.5s\n",
      "[CV] max_features=log2, max_depth=None, criterion=entropy ............\n",
      "[CV]  max_features=log2, max_depth=None, criterion=entropy, total=   9.7s\n",
      "[CV] max_features=log2, max_depth=None, criterion=entropy ............\n",
      "[CV]  max_features=log2, max_depth=None, criterion=entropy, total=   9.3s\n",
      "[CV] max_features=log2, max_depth=None, criterion=entropy ............\n",
      "[CV]  max_features=log2, max_depth=None, criterion=entropy, total=  10.5s\n",
      "[CV] max_features=log2, max_depth=None, criterion=entropy ............\n",
      "[CV]  max_features=log2, max_depth=None, criterion=entropy, total=   9.5s\n",
      "[CV] max_features=log2, max_depth=None, criterion=gini ...............\n",
      "[CV]  max_features=log2, max_depth=None, criterion=gini, total=   8.2s\n",
      "[CV] max_features=log2, max_depth=None, criterion=gini ...............\n",
      "[CV]  max_features=log2, max_depth=None, criterion=gini, total=   8.4s\n",
      "[CV] max_features=log2, max_depth=None, criterion=gini ...............\n",
      "[CV]  max_features=log2, max_depth=None, criterion=gini, total=   8.6s\n",
      "[CV] max_features=log2, max_depth=None, criterion=gini ...............\n",
      "[CV]  max_features=log2, max_depth=None, criterion=gini, total=   7.3s\n",
      "[CV] max_features=log2, max_depth=None, criterion=gini ...............\n",
      "[CV]  max_features=log2, max_depth=None, criterion=gini, total=   7.4s\n",
      "[CV] max_features=log2, max_depth=7, criterion=gini ..................\n",
      "[CV] ... max_features=log2, max_depth=7, criterion=gini, total=   3.8s\n",
      "[CV] max_features=log2, max_depth=7, criterion=gini ..................\n",
      "[CV] ... max_features=log2, max_depth=7, criterion=gini, total=   3.7s\n",
      "[CV] max_features=log2, max_depth=7, criterion=gini ..................\n",
      "[CV] ... max_features=log2, max_depth=7, criterion=gini, total=   3.5s\n",
      "[CV] max_features=log2, max_depth=7, criterion=gini ..................\n",
      "[CV] ... max_features=log2, max_depth=7, criterion=gini, total=   3.7s\n",
      "[CV] max_features=log2, max_depth=7, criterion=gini ..................\n",
      "[CV] ... max_features=log2, max_depth=7, criterion=gini, total=   4.4s\n",
      "[CV] max_features=None, max_depth=7, criterion=gini ..................\n",
      "[CV] ... max_features=None, max_depth=7, criterion=gini, total=   9.3s\n",
      "[CV] max_features=None, max_depth=7, criterion=gini ..................\n",
      "[CV] ... max_features=None, max_depth=7, criterion=gini, total=  10.4s\n",
      "[CV] max_features=None, max_depth=7, criterion=gini ..................\n",
      "[CV] ... max_features=None, max_depth=7, criterion=gini, total=   8.5s\n",
      "[CV] max_features=None, max_depth=7, criterion=gini ..................\n",
      "[CV] ... max_features=None, max_depth=7, criterion=gini, total=   8.4s\n",
      "[CV] max_features=None, max_depth=7, criterion=gini ..................\n",
      "[CV] ... max_features=None, max_depth=7, criterion=gini, total=  10.1s\n",
      "[CV] max_features=sqrt, max_depth=7, criterion=gini ..................\n",
      "[CV] ... max_features=sqrt, max_depth=7, criterion=gini, total=   4.4s\n",
      "[CV] max_features=sqrt, max_depth=7, criterion=gini ..................\n",
      "[CV] ... max_features=sqrt, max_depth=7, criterion=gini, total=   3.9s\n",
      "[CV] max_features=sqrt, max_depth=7, criterion=gini ..................\n",
      "[CV] ... max_features=sqrt, max_depth=7, criterion=gini, total=   3.9s\n",
      "[CV] max_features=sqrt, max_depth=7, criterion=gini ..................\n",
      "[CV] ... max_features=sqrt, max_depth=7, criterion=gini, total=   3.8s\n",
      "[CV] max_features=sqrt, max_depth=7, criterion=gini ..................\n",
      "[CV] ... max_features=sqrt, max_depth=7, criterion=gini, total=   3.4s\n",
      "[CV] max_features=log2, max_depth=4, criterion=entropy ...............\n",
      "[CV]  max_features=log2, max_depth=4, criterion=entropy, total=   2.6s\n",
      "[CV] max_features=log2, max_depth=4, criterion=entropy ...............\n",
      "[CV]  max_features=log2, max_depth=4, criterion=entropy, total=   2.6s\n",
      "[CV] max_features=log2, max_depth=4, criterion=entropy ...............\n",
      "[CV]  max_features=log2, max_depth=4, criterion=entropy, total=   2.8s\n",
      "[CV] max_features=log2, max_depth=4, criterion=entropy ...............\n",
      "[CV]  max_features=log2, max_depth=4, criterion=entropy, total=   3.1s\n",
      "[CV] max_features=log2, max_depth=4, criterion=entropy ...............\n",
      "[CV]  max_features=log2, max_depth=4, criterion=entropy, total=   3.5s\n",
      "[CV] max_features=sqrt, max_depth=4, criterion=gini ..................\n",
      "[CV] ... max_features=sqrt, max_depth=4, criterion=gini, total=   3.5s\n",
      "[CV] max_features=sqrt, max_depth=4, criterion=gini ..................\n",
      "[CV] ... max_features=sqrt, max_depth=4, criterion=gini, total=   4.6s\n",
      "[CV] max_features=sqrt, max_depth=4, criterion=gini ..................\n",
      "[CV] ... max_features=sqrt, max_depth=4, criterion=gini, total=   4.4s\n",
      "[CV] max_features=sqrt, max_depth=4, criterion=gini ..................\n",
      "[CV] ... max_features=sqrt, max_depth=4, criterion=gini, total=   3.5s\n",
      "[CV] max_features=sqrt, max_depth=4, criterion=gini ..................\n",
      "[CV] ... max_features=sqrt, max_depth=4, criterion=gini, total=   3.6s\n",
      "[CV] max_features=log2, max_depth=7, criterion=entropy ...............\n",
      "[CV]  max_features=log2, max_depth=7, criterion=entropy, total=   5.3s\n",
      "[CV] max_features=log2, max_depth=7, criterion=entropy ...............\n",
      "[CV]  max_features=log2, max_depth=7, criterion=entropy, total=   5.2s\n",
      "[CV] max_features=log2, max_depth=7, criterion=entropy ...............\n",
      "[CV]  max_features=log2, max_depth=7, criterion=entropy, total=   5.1s\n",
      "[CV] max_features=log2, max_depth=7, criterion=entropy ...............\n",
      "[CV]  max_features=log2, max_depth=7, criterion=entropy, total=   4.3s\n",
      "[CV] max_features=log2, max_depth=7, criterion=entropy ...............\n",
      "[CV]  max_features=log2, max_depth=7, criterion=entropy, total=   4.6s\n"
     ]
    },
    {
     "name": "stderr",
     "output_type": "stream",
     "text": [
      "[Parallel(n_jobs=1)]: Done  50 out of  50 | elapsed:  5.5min finished\n"
     ]
    },
    {
     "data": {
      "text/plain": [
       "RandomizedSearchCV(cv=StratifiedKFold(n_splits=5, random_state=42, shuffle=True),\n",
       "          error_score='raise',\n",
       "          estimator=RandomForestClassifier(bootstrap=True, class_weight=None, criterion='gini',\n",
       "            max_depth=None, max_features='auto', max_leaf_nodes=None,\n",
       "            min_impurity_decrease=0.0, min_impurity_split=None,\n",
       "            min_samples_leaf=1, min_samples_split=2,\n",
       "            min_weight_fraction_leaf=0.0, n_estimators=850, n_jobs=-1,\n",
       "            oob_score=False, random_state=42, verbose=0, warm_start=False),\n",
       "          fit_params=None, iid=True, n_iter=10, n_jobs=1,\n",
       "          param_distributions={'criterion': ['gini', 'entropy'], 'max_depth': [4, 7, 10, None], 'max_features': ['log2', 'sqrt', None]},\n",
       "          pre_dispatch='2*n_jobs', random_state=None, refit=True,\n",
       "          return_train_score='warn', scoring=None, verbose=2)"
      ]
     },
     "execution_count": 46,
     "metadata": {},
     "output_type": "execute_result"
    }
   ],
   "source": [
    "from sklearn.model_selection import RandomizedSearchCV\n",
    "randomize_search = RandomizedSearchCV(rf,\n",
    "                           {'criterion': ['gini', 'entropy'],\n",
    "                            'max_depth': [4, 7, 10, None],\n",
    "                            'max_features': ['log2', 'sqrt', None]},\n",
    "                           cv=kfold,\n",
    "                           verbose=2)\n",
    "randomize_search.fit(df_clean, df['OutcomeType'])"
   ]
  },
  {
   "cell_type": "code",
   "execution_count": 48,
   "metadata": {
    "ExecuteTime": {
     "end_time": "2017-11-25T00:48:36.034229Z",
     "start_time": "2017-11-25T00:48:36.026922Z"
    }
   },
   "outputs": [
    {
     "name": "stderr",
     "output_type": "stream",
     "text": [
      "/Users/i.slinko/miniconda3/lib/python3.6/site-packages/sklearn/model_selection/_search.py:761: DeprecationWarning: The grid_scores_ attribute was deprecated in version 0.18 in favor of the more elaborate cv_results_ attribute. The grid_scores_ attribute will not be available from 0.20\n",
      "  DeprecationWarning)\n"
     ]
    },
    {
     "data": {
      "text/plain": [
       "[mean: 0.68121, std: 0.00664, params: {'max_features': 'sqrt', 'max_depth': 10, 'criterion': 'entropy'},\n",
       " mean: 0.68046, std: 0.00579, params: {'max_features': 'sqrt', 'max_depth': 10, 'criterion': 'gini'},\n",
       " mean: 0.70119, std: 0.00422, params: {'max_features': 'log2', 'max_depth': None, 'criterion': 'entropy'},\n",
       " mean: 0.70265, std: 0.00548, params: {'max_features': 'log2', 'max_depth': None, 'criterion': 'gini'},\n",
       " mean: 0.66026, std: 0.00590, params: {'max_features': 'log2', 'max_depth': 7, 'criterion': 'gini'},\n",
       " mean: 0.67335, std: 0.00748, params: {'max_features': None, 'max_depth': 7, 'criterion': 'gini'},\n",
       " mean: 0.66026, std: 0.00590, params: {'max_features': 'sqrt', 'max_depth': 7, 'criterion': 'gini'},\n",
       " mean: 0.61439, std: 0.00519, params: {'max_features': 'log2', 'max_depth': 4, 'criterion': 'entropy'},\n",
       " mean: 0.61686, std: 0.00416, params: {'max_features': 'sqrt', 'max_depth': 4, 'criterion': 'gini'},\n",
       " mean: 0.65790, std: 0.00509, params: {'max_features': 'log2', 'max_depth': 7, 'criterion': 'entropy'}]"
      ]
     },
     "execution_count": 48,
     "metadata": {},
     "output_type": "execute_result"
    }
   ],
   "source": [
    "randomize_search.grid_scores_"
   ]
  },
  {
   "cell_type": "markdown",
   "metadata": {},
   "source": [
    "## hyperopt\n",
    "https://github.com/hyperopt/hyperopt-sklearn\n",
    "\n",
    "git clone git@github.com:hyperopt/hyperopt-sklearn.git\n",
    "\n",
    "(cd hyperopt-sklearn && pip install -e .)\n",
    "\n",
    "Статья: http://blog.districtdatalabs.com/parameter-tuning-with-hyperopt\n",
    "\n",
    "Видео: https://www.youtube.com/watch?v=Mp1xnPfE4PY"
   ]
  },
  {
   "cell_type": "code",
   "execution_count": null,
   "metadata": {
    "collapsed": true
   },
   "outputs": [],
   "source": []
  },
  {
   "cell_type": "markdown",
   "metadata": {},
   "source": [
    "### Закодируем Breed таргетом:"
   ]
  },
  {
   "cell_type": "code",
   "execution_count": 62,
   "metadata": {
    "ExecuteTime": {
     "end_time": "2017-11-25T01:15:32.101961Z",
     "start_time": "2017-11-25T01:15:32.092208Z"
    }
   },
   "outputs": [],
   "source": [
    "def mean_target(df, feature_name, target_name, C=None):\n",
    "    \"\"\"Mean target.\n",
    "    Original idea: Stanislav Semenov\n",
    "    Parameters\n",
    "    ----------\n",
    "    C : float, default None\n",
    "        Regularization coefficient. The higher, the more conservative result.\n",
    "        The optimal value lies between 10 and 50 depending on the data.\n",
    "    feature_name : str\n",
    "    target_name : str\n",
    "    df: DataFrame\n",
    "    Returns\n",
    "    -------\n",
    "    Series\n",
    "    \"\"\"\n",
    "\n",
    "    def group_mean(group):\n",
    "        group_size = float(group.shape[0])\n",
    "        if C is None:\n",
    "            return (group.mean() * group_size + global_mean) / group_size\n",
    "        else:\n",
    "            return (group.mean() * group_size + global_mean * C) / (group_size + C)\n",
    "\n",
    "    global_mean = df[target_name].mean()\n",
    "    return df.groupby(feature_name)[target_name].transform(group_mean)"
   ]
  },
  {
   "cell_type": "code",
   "execution_count": 69,
   "metadata": {
    "ExecuteTime": {
     "end_time": "2017-11-25T01:18:45.097516Z",
     "start_time": "2017-11-25T01:18:45.090934Z"
    }
   },
   "outputs": [],
   "source": [
    "df['Return_to_owner'] = df['OutcomeType'] == 'Return_to_owner'"
   ]
  },
  {
   "cell_type": "code",
   "execution_count": 71,
   "metadata": {
    "ExecuteTime": {
     "end_time": "2017-11-25T01:27:15.154459Z",
     "start_time": "2017-11-25T01:27:15.149938Z"
    },
    "collapsed": true
   },
   "outputs": [],
   "source": [
    "### продолжение в классе"
   ]
  },
  {
   "cell_type": "markdown",
   "metadata": {},
   "source": [
    "## Нагенерим новых фичей:"
   ]
  },
  {
   "cell_type": "code",
   "execution_count": 75,
   "metadata": {
    "ExecuteTime": {
     "end_time": "2017-11-25T01:37:16.221966Z",
     "start_time": "2017-11-25T01:37:16.211931Z"
    }
   },
   "outputs": [
    {
     "data": {
      "text/plain": [
       "array([[0, 1],\n",
       "       [2, 3],\n",
       "       [4, 5]])"
      ]
     },
     "execution_count": 75,
     "metadata": {},
     "output_type": "execute_result"
    }
   ],
   "source": [
    "X = np.arange(6).reshape(3, 2)\n",
    "X"
   ]
  },
  {
   "cell_type": "code",
   "execution_count": 77,
   "metadata": {
    "ExecuteTime": {
     "end_time": "2017-11-25T01:37:24.906617Z",
     "start_time": "2017-11-25T01:37:24.900504Z"
    }
   },
   "outputs": [
    {
     "data": {
      "text/plain": [
       "array([[  1.,   0.,   1.,   0.,   0.,   1.],\n",
       "       [  1.,   2.,   3.,   4.,   6.,   9.],\n",
       "       [  1.,   4.,   5.,  16.,  20.,  25.]])"
      ]
     },
     "execution_count": 77,
     "metadata": {},
     "output_type": "execute_result"
    }
   ],
   "source": [
    "poly = PolynomialFeatures(2)\n",
    "poly.fit_transform(X)"
   ]
  },
  {
   "cell_type": "code",
   "execution_count": 81,
   "metadata": {
    "ExecuteTime": {
     "end_time": "2017-11-25T01:37:51.967293Z",
     "start_time": "2017-11-25T01:37:51.961618Z"
    }
   },
   "outputs": [
    {
     "data": {
      "text/plain": [
       "array([[  1.,   0.,   1.,   0.],\n",
       "       [  1.,   2.,   3.,   6.],\n",
       "       [  1.,   4.,   5.,  20.]])"
      ]
     },
     "execution_count": 81,
     "metadata": {},
     "output_type": "execute_result"
    }
   ],
   "source": [
    "poly = PolynomialFeatures(interaction_only=True, degree=3)\n",
    "poly.fit_transform(X)"
   ]
  },
  {
   "cell_type": "code",
   "execution_count": null,
   "metadata": {
    "collapsed": true
   },
   "outputs": [],
   "source": []
  },
  {
   "cell_type": "code",
   "execution_count": 106,
   "metadata": {
    "ExecuteTime": {
     "end_time": "2017-11-25T07:12:22.145594Z",
     "start_time": "2017-11-25T07:12:22.061542Z"
    }
   },
   "outputs": [],
   "source": [
    "from sklearn.preprocessing import PolynomialFeatures\n",
    "p_features = PolynomialFeatures(2, include_bias=False)\n",
    "new_features = p_features.fit_transform(df_clean)[:,:p_features.n_input_features_:]"
   ]
  },
  {
   "cell_type": "code",
   "execution_count": 111,
   "metadata": {
    "ExecuteTime": {
     "end_time": "2017-11-25T07:13:41.400462Z",
     "start_time": "2017-11-25T07:13:41.389081Z"
    }
   },
   "outputs": [],
   "source": [
    "new_features = pd.DataFrame(new_features, columns=['new_f_' + str(x) for x in range(new_features.shape[1])])\n",
    "new_clean_df = pd.concat([df_clean, new_features], axis=1)"
   ]
  },
  {
   "cell_type": "code",
   "execution_count": 112,
   "metadata": {
    "ExecuteTime": {
     "end_time": "2017-11-25T07:14:26.100896Z",
     "start_time": "2017-11-25T07:13:43.195094Z"
    },
    "scrolled": false
   },
   "outputs": [
    {
     "data": {
      "text/plain": [
       "array([ 0.69446522,  0.70974378,  0.70383536,  0.70402245,  0.70583832])"
      ]
     },
     "execution_count": 112,
     "metadata": {},
     "output_type": "execute_result"
    }
   ],
   "source": [
    "from sklearn.model_selection import cross_val_score\n",
    "\n",
    "cross_val_score(rf, new_clean_df, df['OutcomeType'], cv=kfold)"
   ]
  },
  {
   "cell_type": "code",
   "execution_count": 113,
   "metadata": {
    "ExecuteTime": {
     "end_time": "2017-11-25T07:14:42.887075Z",
     "start_time": "2017-11-25T07:14:42.881384Z"
    }
   },
   "outputs": [
    {
     "data": {
      "text/plain": [
       "0.70358102599999994"
      ]
     },
     "execution_count": 113,
     "metadata": {},
     "output_type": "execute_result"
    }
   ],
   "source": [
    "np.mean(array([ 0.69446522,  0.70974378,  0.70383536,  0.70402245,  0.70583832]))"
   ]
  },
  {
   "cell_type": "code",
   "execution_count": 116,
   "metadata": {
    "ExecuteTime": {
     "end_time": "2017-11-25T07:15:31.123060Z",
     "start_time": "2017-11-25T07:15:30.903099Z"
    }
   },
   "outputs": [
    {
     "data": {
      "text/plain": [
       "array([ 0.08635483,  0.02463357,  0.01021268,  0.05055189,  0.00349975,\n",
       "        0.04449381,  0.01072261,  0.01931179,  0.04055958,  0.05388898,\n",
       "        0.05624548,  0.06679004,  0.03367633,  0.08666547,  0.02488755,\n",
       "        0.01024301,  0.04746875,  0.0034995 ,  0.04479579,  0.01131897,\n",
       "        0.01924761,  0.04056928,  0.05391903,  0.05590417,  0.0668905 ,\n",
       "        0.03364906])"
      ]
     },
     "execution_count": 116,
     "metadata": {},
     "output_type": "execute_result"
    }
   ],
   "source": [
    "rf.fit(new_clean_df, df['OutcomeType'])"
   ]
  },
  {
   "cell_type": "code",
   "execution_count": 122,
   "metadata": {
    "ExecuteTime": {
     "end_time": "2017-11-25T07:18:32.577788Z",
     "start_time": "2017-11-25T07:18:32.353064Z"
    }
   },
   "outputs": [
    {
     "name": "stdout",
     "output_type": "stream",
     "text": [
      "new_f_0 \t 0.0866654661801\n",
      "AgeuponOutcomeNoNan \t 0.0863548269252\n",
      "new_f_11 \t 0.0668904994404\n",
      "feat_minute \t 0.0667900382983\n",
      "feat_hour \t 0.0562454758307\n",
      "new_f_10 \t 0.055904166193\n",
      "new_f_9 \t 0.0539190285368\n",
      "feat_day \t 0.0538889793445\n",
      "Intact \t 0.0505518886287\n",
      "new_f_3 \t 0.0474687483228\n",
      "new_f_5 \t 0.0447957891079\n",
      "BreedFreq \t 0.0444938072583\n",
      "new_f_8 \t 0.0405692795673\n",
      "feat_month \t 0.0405595775348\n",
      "feat_weekday \t 0.0336763325007\n",
      "new_f_12 \t 0.0336490580602\n",
      "new_f_1 \t 0.0248875486132\n",
      "DoesNotHaveName \t 0.0246335713522\n",
      "feat_year \t 0.0193117937949\n",
      "new_f_7 \t 0.0192476064919\n",
      "new_f_6 \t 0.011318971277\n",
      "AnimalTypeBool \t 0.0107226084551\n",
      "new_f_2 \t 0.0102430112694\n",
      "Sex \t 0.0102126811759\n",
      "Mix \t 0.00349974570373\n",
      "new_f_4 \t 0.00349950013699\n"
     ]
    }
   ],
   "source": [
    "def get_feature_importance(df, rf):\n",
    "    for feature, importance in sorted(zip(df.columns, rf.feature_importances_), key=lambda x: -x[1]):\n",
    "        print(feature, '\\t', importance)\n",
    "    \n",
    "get_feature_importance(new_clean_df, rf)"
   ]
  },
  {
   "cell_type": "markdown",
   "metadata": {
    "collapsed": true
   },
   "source": [
    "#### Продолжение задания для kNN:"
   ]
  },
  {
   "cell_type": "markdown",
   "metadata": {},
   "source": [
    "6) Попробуйте использовать kNN с параметрами по умолчанию. Чтобы померить качество, можно использовать <a href=\"http://scikit-learn.org/stable/modules/generated/sklearn.model_selection.cross_val_score.html\">cross_val_score</a> на 5-ти фолдах.\n",
    "\n",
    "7) Для kNN пропуски нужно заполять чем-то близким к реальности: например, средним значением параметра. Это можно сделать с помощью класса <a href=\"http://scikit-learn.org/stable/modules/preprocessing.html#imputation-of-missing-values\">Imputer</a>. Проверьте, на сколько отличается качество при использовании такого подхода к заполнению признаков.\n",
    "\n",
    "8) Еще kNN любит, чтобы признаки имели схожий масштаб. Помните, мы вычитали среднее и делили на std массив? Так вот для это есть отдельный класс: <a href=\"http://scikit-learn.org/stable/modules/generated/sklearn.preprocessing.StandardScaler.html#sklearn.preprocessing.StandardScaler\">sklearn.preprocessing.StandardScaler</a>. Примените шкалирование. Удалось ли улучшить качество?\n",
    "\n",
    "9) Пройдитесь GridSearch-ем по параметрам kNN (количество соседей, параметр p у метрики Минковского). Какое количество соседей оказалось оптимальным? Какая метрика расстояния?\n",
    "\n",
    "10) Скорее всего результат kNN получился не таким хорошим как у RF. Все не зря! С помощью <a href=\"http://scikit-learn.org/stable/modules/generated/sklearn.model_selection.StratifiedKFold.html\"> sklearn.model_selection.StratifiedKFold</a> можно сгенерировать трейн- и тестовые выборки. Давайте обучимся на трейне и предскажем для теста. StratifiedKFold отдает индексы элементов из X, которые попадут в тестовую выборку. Давайте создадим колонку размера len(X), где будем хранить предсказания kNN по соответствующим индексам. Таким образом мы создадим несмещенные оценки алгоритма, а значит, будем иметь полное право использовать их как входные данные для RF. Попробуйте улучшить результат RF за счет колонки предсказаний kNN. "
   ]
  },
  {
   "cell_type": "code",
   "execution_count": null,
   "metadata": {
    "collapsed": true
   },
   "outputs": [],
   "source": []
  },
  {
   "cell_type": "markdown",
   "metadata": {
    "collapsed": true
   },
   "source": [
    "#### Идеи по улучшению скора:\n",
    "\n",
    "- Придумывайте новые признаки! <br>\n",
    "Важно ли слово mix в породе? <br>\n",
    "Сколько слов используется в названии породы? <br>\n",
    "Можно ли как-то преобразовать timestamp? Например, вытащить из него день недели, или год?<br>\n",
    "Будьте осторожны, ведь признаки могут не только улучшать score. <br>\n",
    "Некоторые признаки хорошо работают только в паре.\n",
    "\n",
    "\n",
    "- Подбирайте гипер-параметры модели.<br>Какой критерий использовать gini или entropy?<br>Может, стоит не до конца строить деревья?"
   ]
  },
  {
   "cell_type": "code",
   "execution_count": null,
   "metadata": {
    "collapsed": true
   },
   "outputs": [],
   "source": []
  }
 ],
 "metadata": {
  "kernelspec": {
   "display_name": "Python 3",
   "language": "python",
   "name": "python3"
  },
  "language_info": {
   "codemirror_mode": {
    "name": "ipython",
    "version": 3
   },
   "file_extension": ".py",
   "mimetype": "text/x-python",
   "name": "python",
   "nbconvert_exporter": "python",
   "pygments_lexer": "ipython3",
   "version": "3.6.1"
  }
 },
 "nbformat": 4,
 "nbformat_minor": 1
}
